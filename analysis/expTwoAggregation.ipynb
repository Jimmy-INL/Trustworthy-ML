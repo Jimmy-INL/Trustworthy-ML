{
 "cells": [
  {
   "cell_type": "code",
   "execution_count": 1,
   "metadata": {},
   "outputs": [],
   "source": [
    "import numpy as np\n",
    "import pandas as pd\n",
    "import json\n",
    "import matplotlib.pyplot as plt\n",
    "import datetime\n",
    "np.random_state=42\n",
    "from scipy import stats\n",
    "from sklearn.linear_model import LinearRegression,Lasso\n",
    "import statsmodels.api as sm\n",
    "from statsmodels.stats.multicomp import pairwise_tukeyhsd\n",
    "from statsmodels.formula.api import ols\n"
   ]
  },
  {
   "cell_type": "code",
   "execution_count": 2,
   "metadata": {},
   "outputs": [],
   "source": [
    "finalPredictionsValid = pd.read_csv(\"../data/expTwoFinalPredictionsValid1125.csv\")\n",
    "infosValid = pd.read_csv(\"../data/expTwoInfosValid1125.csv\")\n",
    "workerIdList = list(set(finalPredictionsValid[\"workerId\"]))\n",
    "all_instances = pd.read_csv(\"../rawData/datingData/all_instances.csv\")"
   ]
  },
  {
   "cell_type": "code",
   "execution_count": 3,
   "metadata": {},
   "outputs": [],
   "source": [
    "res = pd.DataFrame()\n",
    "for elem in workerIdList:\n",
    "\n",
    "    temp = pd.DataFrame()\n",
    "    workerAnswerPhaseOne = finalPredictionsValid.query(\"workerId=='\"+str(elem)+\"'\").query(\"taskId<22\")\n",
    "    workerAnswerPhaseTwo = finalPredictionsValid.query(\"workerId=='\"+str(elem)+\"'\").query(\"taskId>=22\")\n",
    "    allDisSwitch = np.sum(finalPredictionsValid.query(\"workerId=='\"+str(elem)+\"'\")[\"selfPrediction\"]==finalPredictionsValid.query(\"workerId=='\"+str(elem)+\"'\")[\"finalPrediction\"])\n",
    "    #     tempA\n",
    "    workerInfo = infosValid.query(\"workerId=='\"+str(elem)+\"'\")\n",
    "    \n",
    "    phaseOneAgreementFraction = np.mean(workerAnswerPhaseOne[\"finalAgreement\"])\n",
    "    phaseOneSelfAccuracy = np.mean(workerAnswerPhaseOne[\"selfCorrect\"])\n",
    "    temp[\"trustSurvey\"] = infosValid.query(\"workerId=='\"+str(elem)+\"'\")[\"surveyTrust\"].values\n",
    "    temp[\"actualAgreement\"] = [np.mean(workerAnswerPhaseOne[\"agreement\"])]\n",
    "    \n",
    "    finalAgree1 = workerAnswerPhaseTwo.query(\"selfPrediction==1\").query(\"agreement==0\").query(\"finalPrediction==0\")\n",
    "    finalAgree2 = workerAnswerPhaseTwo.query(\"selfPrediction==0\").query(\"agreement==0\").query(\"finalPrediction==1\")\n",
    "    finalAgree3 = workerAnswerPhaseTwo.query(\"selfPrediction==1\").query(\"agreement==1\").query(\"finalPrediction==1\")\n",
    "    finalAgree4 = workerAnswerPhaseTwo.query(\"selfPrediction==0\").query(\"agreement==1\").query(\"finalPrediction==0\")\n",
    "    agreementFraction = (len(finalAgree1)+len(finalAgree2)+len(finalAgree3)+len(finalAgree4))/10\n",
    "    agreementFraction = np.mean(workerAnswerPhaseTwo[\"finalAgreement\"])\n",
    "    \n",
    "    disagreement = workerAnswerPhaseTwo.query(\"agreement==0\")\n",
    "    switchFromOne = workerAnswerPhaseTwo.query(\"agreement==0\").query(\"selfPrediction==1\").query(\"finalPrediction==0\")\n",
    "    switchFromZero = workerAnswerPhaseTwo.query(\"agreement==0\").query(\"selfPrediction==0\").query(\"finalPrediction==1\")\n",
    "    switchWhenAgreeFromZero = workerAnswerPhaseTwo.query(\"agreement==1\").query(\"selfPrediction==0\").query(\"finalPrediction==1\")\n",
    "    switchWhenAgreeFromOne = workerAnswerPhaseTwo.query(\"agreement==1\").query(\"selfPrediction==1\").query(\"finalPrediction==0\")\n",
    "    \n",
    "    disAgreeSwitch = len(finalAgree1)+len(finalAgree2)\n",
    "    agreeDisSwitch = len(finalAgree3)+len(finalAgree4)\n",
    "\n",
    "    agreeSwitch = len(switchWhenAgreeFromZero)+len(switchWhenAgreeFromOne)\n",
    "    \n",
    "    disAgreeDisSwitch = len(\n",
    "        workerAnswerPhaseTwo.query(\"selfPrediction==1\").query(\"agreement==0\").query(\"finalPrediction==1\"))+len(\n",
    "        workerAnswerPhaseTwo.query(\"selfPrediction==0\").query(\"agreement==0\").query(\"finalPrediction==0\"))\n",
    "    \n",
    "    if len(disagreement)!=0:\n",
    "        switchFraction = (len(switchFromOne)+len(switchFromZero))/len(disagreement)\n",
    "    else:\n",
    "        switchFraction = -1\n",
    "    switchWhenAgree = len(switchWhenAgreeFromZero)+len(switchWhenAgreeFromOne)\n",
    "    finalAccuracy = np.mean(workerAnswerPhaseTwo[\"finalCorrect\"])\n",
    "    temp[\"agreeDisSwitch\"] = [agreeDisSwitch]\n",
    "    temp[\"agreeSwitch\"] = [agreeSwitch]\n",
    "    temp[\"disAgreeSwitch\"] = [disAgreeSwitch]\n",
    "    temp[\"disAgreeDisSwitch\"] = [disAgreeDisSwitch]\n",
    "    temp[\"allDisSwitch\"] = [allDisSwitch]\n",
    "    temp[\"finalAccuracy\"] = [finalAccuracy]      \n",
    "    temp[\"workerId\"] = [elem]  \n",
    "    temp[\"agreementFraction\"] = [agreementFraction]\n",
    "    temp[\"switchFraction\"] = [switchFraction]\n",
    "\n",
    "    idpAgreement = np.mean(workerAnswerPhaseTwo[\"idpAgreement\"])\n",
    "    acc = np.mean(workerAnswerPhaseTwo[\"acc\"])\n",
    "    treatment = np.mean(workerAnswerPhaseTwo[\"treatment\"])\n",
    "    temp[\"idpAgreement\"] = idpAgreement\n",
    "    temp[\"acc\"] = acc\n",
    "    temp[\"treatment\"] = treatment\n",
    "    temp[\"competence\"] = [int(workerInfo[\"competence\"])]\n",
    "    temp[\"faith\"] = [int(workerInfo[\"faith\"])]\n",
    "    temp[\"understandability\"] = [int(workerInfo[\"understandability\"])]\n",
    "    temp[\"reliability\"] = [int(workerInfo[\"reliability\"])]\n",
    "    res = res.append(temp)"
   ]
  },
  {
   "cell_type": "code",
   "execution_count": 4,
   "metadata": {},
   "outputs": [],
   "source": [
    "supplementary_res = pd.DataFrame()\n",
    "for elem in workerIdList:\n",
    "    temp = pd.DataFrame()\n",
    "    \n",
    "    workerAnswerAll = finalPredictionsValid.query(\"workerId=='\"+str(elem)+\"'\")\n",
    "    workerAnswerPhaseOne = finalPredictionsValid.query(\"workerId=='\"+str(elem)+\"'\").query(\"taskId<22\")\n",
    "    workerAnswerPhaseTwo = finalPredictionsValid.query(\"workerId=='\"+str(elem)+\"'\").query(\"taskId>=22\")\n",
    "    workerAnswerPhaseOnePartThree = finalPredictionsValid.query(\"workerId=='\"+str(elem)+\"'\").query(\"taskId>=11\").query(\"taskId<=15\")\n",
    "    workerAnswerPhaseOnePartFour = finalPredictionsValid.query(\"workerId=='\"+str(elem)+\"'\").query(\"taskId>15\").query(\"taskId<=22\")\n",
    "\n",
    "    phaseOneSelfAccuracy = np.mean(workerAnswerPhaseOne[\"selfCorrect\"])\n",
    "    phaseTwoSelfAccuracy = np.mean(workerAnswerPhaseTwo[\"selfCorrect\"])\n",
    "    \n",
    "    phaseOneFinalAccuracy = np.mean(workerAnswerPhaseOne[\"finalCorrect\"])\n",
    "    phaseTwoFinalAccuracy = np.mean(workerAnswerPhaseTwo[\"finalCorrect\"])\n",
    "    \n",
    "    phaseOneSelfAccuracyMlcorrect = np.mean(workerAnswerPhaseOne.query(\"mlCorrect==True\")[\"selfCorrect\"])\n",
    "    phaseOneSelfAccuracyMlincorrect = np.mean(workerAnswerPhaseOne.query(\"mlCorrect==False\")[\"selfCorrect\"])\n",
    "    phaseTwoSelfAccuracyMlcorrect = np.mean(workerAnswerPhaseTwo.query(\"mlCorrect==True\")[\"selfCorrect\"])\n",
    "    phaseTwoSelfAccuracyMlincorrect = np.mean(workerAnswerPhaseTwo.query(\"mlCorrect==False\")[\"selfCorrect\"])\n",
    "    \n",
    "    phaseOneFinalAccuracyMlcorrect = np.mean(workerAnswerPhaseOne.query(\"mlCorrect==True\")[\"finalCorrect\"])\n",
    "    phaseOneFinalAccuracyMlincorrect = np.mean(workerAnswerPhaseOne.query(\"mlCorrect==False\")[\"finalCorrect\"])\n",
    "    phaseTwoFinalAccuracyMlcorrect = np.mean(workerAnswerPhaseTwo.query(\"mlCorrect==True\")[\"finalCorrect\"])\n",
    "    phaseTwoFinalAccuracyMlincorrect = np.mean(workerAnswerPhaseTwo.query(\"mlCorrect==False\")[\"finalCorrect\"])   \n",
    "    \n",
    "    phaseTwoAgreementFrationMlCorrect = np.mean(workerAnswerPhaseTwo.query(\"mlCorrect==True\")[\"finalAgreement\"])\n",
    "    phaseTwoAgreementFrationMlIncorrect = np.mean(workerAnswerPhaseTwo.query(\"mlCorrect==False\")[\"finalAgreement\"])\n",
    "    phaseTwoSwitchFractionM1Correct = np.mean((workerAnswerPhaseTwo.query(\"mlCorrect==True\")[\"switch\"]))\n",
    "    phaseTwoSwitchFractionM1Incorrect = np.mean((workerAnswerPhaseTwo.query(\"mlCorrect==False\")[\"switch\"]))\n",
    "\n",
    "    idpAgreementPhaseOnePartThree = np.mean(workerAnswerPhaseOnePartThree[\"agreement\"])\n",
    "    idpAgreementPhaseOnePartFour = np.mean(workerAnswerPhaseOnePartFour[\"agreement\"])\n",
    "\n",
    "    allSelfAccuracy = np.mean(workerAnswerAll[\"selfCorrect\"])\n",
    "    allFinalAccuracy = np.mean(workerAnswerAll[\"finalCorrect\"])\n",
    "    allFinalAccuracyMlcorrect = np.mean(workerAnswerAll.query(\"mlCorrect==True\")[\"finalCorrect\"])\n",
    "    allFinalAccuracyMlincorrect = np.mean(workerAnswerAll.query(\"mlCorrect==False\")[\"finalCorrect\"])\n",
    "    \n",
    "\n",
    "    temp[\"workerId\"] = [elem]\n",
    "    temp[\"phaseTwoActualAgreement\"] = np.mean(workerAnswerPhaseTwo[\"agreement\"])\n",
    "    temp[\"idpAgreement\"] = [workerAnswerPhaseOne[\"idpAgreement\"].values[0]] \n",
    "                                 \n",
    "    temp[\"phaseTwoAgreementFrationMlCorrect\"] = [phaseTwoAgreementFrationMlCorrect]      \n",
    "    temp[\"phaseTwoAgreementFrationMlIncorrect\"] = [phaseTwoAgreementFrationMlIncorrect]      \n",
    "    temp[\"phaseTwoSwitchFractionM1Correct\"] = [phaseTwoSwitchFractionM1Correct]      \n",
    "    temp[\"phaseTwoSwitchFractionM1Incorrect\"] = [phaseTwoSwitchFractionM1Incorrect]      \n",
    "    temp[\"idpAgreementPhaseOnePartThree\"] = [idpAgreementPhaseOnePartThree] \n",
    "    temp[\"idpAgreementPhaseOnePartFour\"] = [idpAgreementPhaseOnePartFour] \n",
    "\n",
    "    temp[\"allSelfAccuracy\"] = [allSelfAccuracy]      \n",
    "    temp[\"allFinalAccuracy\"] = [allFinalAccuracy]  \n",
    "    temp[\"allFinalAccuracyMlcorrect\"] = [allFinalAccuracyMlcorrect]  \n",
    "    temp[\"allFinalAccuracyMlincorrect\"] = [allFinalAccuracyMlincorrect]  \n",
    "    temp[\"phaseOneSelfAccuracy\"] = [phaseOneSelfAccuracy]      \n",
    "    temp[\"phaseTwoSelfAccuracy\"] = [phaseTwoSelfAccuracy]      \n",
    "    temp[\"phaseOneFinalAccuracy\"] = [phaseOneFinalAccuracy]      \n",
    "    temp[\"phaseTwoFinalAccuracy\"] = [phaseTwoFinalAccuracy]\n",
    "    temp[\"phaseOneSelfAccuracyMlcorrect\"] = [phaseOneSelfAccuracyMlcorrect]      \n",
    "    temp[\"phaseOneSelfAccuracyMlincorrect\"] = [phaseOneSelfAccuracyMlincorrect]  \n",
    "    temp[\"phaseTwoSelfAccuracyMlcorrect\"] = [phaseTwoSelfAccuracyMlcorrect]      \n",
    "    temp[\"phaseTwoSelfAccuracyMlincorrect\"] = [phaseTwoSelfAccuracyMlincorrect]\n",
    "    temp[\"phaseOneFinalAccuracyMlcorrect\"] = [phaseOneFinalAccuracyMlcorrect]      \n",
    "    temp[\"phaseOneFinalAccuracyMlincorrect\"] = [phaseOneFinalAccuracyMlincorrect]      \n",
    "    temp[\"phaseTwoFinalAccuracyMlcorrect\"] = [phaseTwoFinalAccuracyMlcorrect]      \n",
    "    temp[\"phaseTwoFinalAccuracyMlincorrect\"] = [phaseTwoFinalAccuracyMlincorrect]      \n",
    "    supplementary_res = supplementary_res.append(temp)"
   ]
  },
  {
   "cell_type": "code",
   "execution_count": 5,
   "metadata": {},
   "outputs": [],
   "source": [
    "treatmentLabelDict = {0:\"agree50acc50\",1:\"agree80acc50\",2:\"agree50acc80\",3:\"agree80acc80\"}\n",
    "res[\"treatmentLabel\"] = res[\"treatment\"].apply(lambda x: treatmentLabelDict[x])"
   ]
  },
  {
   "cell_type": "code",
   "execution_count": 6,
   "metadata": {},
   "outputs": [],
   "source": [
    "all_res = pd.merge(res,supplementary_res,on=[\"workerId\",\"idpAgreement\"])\n",
    "res.to_csv(\"../data/exp2Res1125.csv\")"
   ]
  },
  {
   "cell_type": "markdown",
   "metadata": {},
   "source": [
    "res"
   ]
  },
  {
   "cell_type": "code",
   "execution_count": 7,
   "metadata": {},
   "outputs": [
    {
     "name": "stdout",
     "output_type": "stream",
     "text": [
      "ANOVA on actual agreement (low acc) : F_onewayResult(statistic=454.5516850223174, pvalue=3.549372823100622e-58)\n",
      "ANOVA on actual agreement (high acc) : F_onewayResult(statistic=262.51301074532574, pvalue=5.949558833058414e-39)\n"
     ]
    },
    {
     "data": {
      "text/plain": [
       "[0.5225190839694657,\n",
       " 0.7566115702479332,\n",
       " 0.5216814159292035,\n",
       " 0.7242574257425738]"
      ]
     },
     "execution_count": 7,
     "metadata": {},
     "output_type": "execute_result"
    }
   ],
   "source": [
    "group_list = [res.query(\"treatment==@i\") for i in range(4)]\n",
    "print(\"ANOVA on actual agreement (low acc)\",\n",
    "      \":\",stats.f_oneway(group_list[0][\"actualAgreement\"],group_list[1][\"actualAgreement\"] ))\n",
    "print(\"ANOVA on actual agreement (high acc)\",\n",
    "      \":\",stats.f_oneway(group_list[2][\"actualAgreement\"],group_list[3][\"actualAgreement\"] ))\n",
    "\n",
    "[np.mean(elem[\"actualAgreement\"]) for elem in group_list]"
   ]
  },
  {
   "cell_type": "code",
   "execution_count": 8,
   "metadata": {},
   "outputs": [],
   "source": [
    "res_anova_dp_list = [\"agreementFraction\",\"switchFraction\",\"phaseTwoAgreementFrationMlCorrect\",\"phaseTwoSwitchFractionM1Correct\",\"phaseTwoAgreementFrationMlIncorrect\",\"phaseTwoSwitchFractionM1Incorrect\"]"
   ]
  },
  {
   "cell_type": "code",
   "execution_count": 9,
   "metadata": {},
   "outputs": [],
   "source": [
    "def assumption_test(df,dp_list):\n",
    "    for elem in dp_list:\n",
    "        for group in range(4):\n",
    "            print(group,\"normality\", stats.shapiro(df.query(\"treatment==@group\")[elem]))\n",
    "        print(\"homogeneity\",stats.bartlett(df.query(\"treatment==0\")[elem],df.query(\"treatment==1\")[elem],df.query(\"treatment==2\")[elem],df.query(\"treatment==3\")[elem]))\n"
   ]
  },
  {
   "cell_type": "code",
   "execution_count": 10,
   "metadata": {},
   "outputs": [
    {
     "name": "stdout",
     "output_type": "stream",
     "text": [
      "0 normality ShapiroResult(statistic=0.965834379196167, pvalue=0.0022112990263849497)\n",
      "1 normality ShapiroResult(statistic=0.9545736908912659, pvalue=0.0004470158601179719)\n",
      "2 normality ShapiroResult(statistic=0.9419673681259155, pvalue=9.659421630203724e-05)\n",
      "3 normality ShapiroResult(statistic=0.9607290029525757, pvalue=0.004277494736015797)\n",
      "homogeneity BartlettResult(statistic=3.411262307075858, pvalue=0.3324547759251432)\n",
      "0 normality ShapiroResult(statistic=0.7604734301567078, pvalue=2.4170482238947133e-13)\n",
      "1 normality ShapiroResult(statistic=0.7631611824035645, pvalue=1.0848391412618397e-12)\n",
      "2 normality ShapiroResult(statistic=0.8957275152206421, pvalue=2.3717984731774777e-07)\n",
      "3 normality ShapiroResult(statistic=0.8046672344207764, pvalue=3.007481763628306e-10)\n",
      "homogeneity BartlettResult(statistic=3.425112281334544, pvalue=0.33060547619800473)\n",
      "0 normality ShapiroResult(statistic=0.944718062877655, pvalue=4.255482053849846e-05)\n",
      "1 normality ShapiroResult(statistic=0.9523558616638184, pvalue=0.00030317771597765386)\n",
      "2 normality ShapiroResult(statistic=0.9133642911911011, pvalue=1.8947383750855806e-06)\n",
      "3 normality ShapiroResult(statistic=0.9393563866615295, pvalue=0.00016293497174046934)\n",
      "homogeneity BartlettResult(statistic=2.253964959810169, pvalue=0.5213973156809921)\n",
      "0 normality ShapiroResult(statistic=0.7338364720344543, pvalue=4.094854067372006e-14)\n",
      "1 normality ShapiroResult(statistic=0.750921905040741, pvalue=4.802313061103014e-13)\n",
      "2 normality ShapiroResult(statistic=0.8450333476066589, pvalue=1.5980944345628245e-09)\n",
      "3 normality ShapiroResult(statistic=0.7836925387382507, pvalue=6.975527100383516e-11)\n",
      "homogeneity BartlettResult(statistic=16.944868745007273, pvalue=0.0007254352112807324)\n",
      "0 normality ShapiroResult(statistic=0.8778756260871887, pvalue=5.530381042007093e-09)\n",
      "1 normality ShapiroResult(statistic=0.8631440997123718, pvalue=3.4402010129497285e-09)\n",
      "2 normality ShapiroResult(statistic=0.8433738946914673, pvalue=1.3824719147237374e-09)\n",
      "3 normality ShapiroResult(statistic=0.8394280672073364, pvalue=4.329971936556376e-09)\n",
      "homogeneity BartlettResult(statistic=2.120673332463421, pvalue=0.5477417429827147)\n",
      "0 normality ShapiroResult(statistic=0.5369366407394409, pvalue=1.4706656075612246e-18)\n",
      "1 normality ShapiroResult(statistic=0.6272698044776917, pvalue=4.508736261202143e-16)\n",
      "2 normality ShapiroResult(statistic=0.7580885291099548, pvalue=2.3268156065098244e-12)\n",
      "3 normality ShapiroResult(statistic=0.6620460748672485, pvalue=6.46803845292393e-14)\n",
      "homogeneity BartlettResult(statistic=21.38244947491058, pvalue=8.767492067960425e-05)\n"
     ]
    }
   ],
   "source": [
    "assumption_test(all_res,res_anova_dp_list)"
   ]
  },
  {
   "cell_type": "markdown",
   "metadata": {},
   "source": [
    "### main effect"
   ]
  },
  {
   "cell_type": "code",
   "execution_count": 11,
   "metadata": {},
   "outputs": [],
   "source": [
    "def anova(df,measure):\n",
    "    group0 = df.query(\"treatment==0\")[measure]\n",
    "    group1 = df.query(\"treatment==1\")[measure]\n",
    "    group2 = df.query(\"treatment==2\")[measure]\n",
    "    group3 = df.query(\"treatment==3\")[measure]\n",
    "    moore_lm = ols(measure+' ~ C(idpAgreement)*C(acc)', data=df).fit()\n",
    "    table = sm.stats.anova_lm(moore_lm, typ=2)\n",
    "    print(table)\n",
    "    m_comp = pairwise_tukeyhsd(endog=df[measure], groups=df['treatmentLabel'], alpha=0.05)\n",
    "    print(m_comp)"
   ]
  },
  {
   "cell_type": "code",
   "execution_count": 12,
   "metadata": {},
   "outputs": [
    {
     "name": "stdout",
     "output_type": "stream",
     "text": [
      "                           sum_sq     df          F    PR(>F)\n",
      "C(idpAgreement)          0.053453    1.0   1.255777  0.263034\n",
      "C(acc)                   0.749712    1.0  17.613043  0.000032\n",
      "C(idpAgreement):C(acc)   0.014252    1.0   0.334830  0.563111\n",
      "Residual                19.665370  462.0        NaN       NaN\n",
      "      Multiple Comparison of Means - Tukey HSD, FWER=0.05       \n",
      "================================================================\n",
      "   group1       group2    meandiff p-adj   lower   upper  reject\n",
      "----------------------------------------------------------------\n",
      "agree50acc50 agree50acc80   0.0911 0.0036  0.0228  0.1594   True\n",
      "agree50acc50 agree80acc50  -0.0112    0.9 -0.0783  0.0558  False\n",
      "agree50acc50 agree80acc80   0.0576 0.1521 -0.0129   0.128  False\n",
      "agree50acc80 agree80acc50  -0.1023  0.001 -0.1719 -0.0327   True\n",
      "agree50acc80 agree80acc80  -0.0335 0.6206 -0.1063  0.0394  False\n",
      "agree80acc50 agree80acc80   0.0688 0.0652 -0.0029  0.1405  False\n",
      "----------------------------------------------------------------\n",
      "                           sum_sq     df          F    PR(>F)\n",
      "C(idpAgreement)          0.049289    1.0   0.449921  0.502708\n",
      "C(acc)                   1.341248    1.0  12.243243  0.000512\n",
      "C(idpAgreement):C(acc)   0.526231    1.0   4.803569  0.028899\n",
      "Residual                50.612138  462.0        NaN       NaN\n",
      "      Multiple Comparison of Means - Tukey HSD, FWER=0.05       \n",
      "================================================================\n",
      "   group1       group2    meandiff p-adj   lower   upper  reject\n",
      "----------------------------------------------------------------\n",
      "agree50acc50 agree50acc80   0.1719  0.001  0.0623  0.2815   True\n",
      "agree50acc50 agree80acc50   0.0414 0.7291 -0.0662   0.149  False\n",
      "agree50acc50 agree80acc80   0.0782 0.2821 -0.0348  0.1912  False\n",
      "agree50acc80 agree80acc50  -0.1305 0.0144 -0.2422 -0.0189   True\n",
      "agree50acc80 agree80acc80  -0.0937 0.1658 -0.2105  0.0232  False\n",
      "agree80acc50 agree80acc80   0.0369 0.8215 -0.0782  0.1519  False\n",
      "----------------------------------------------------------------\n"
     ]
    }
   ],
   "source": [
    "anova(all_res,\"agreementFraction\")\n",
    "anova(all_res,\"switchFraction\")"
   ]
  },
  {
   "cell_type": "code",
   "execution_count": 13,
   "metadata": {},
   "outputs": [
    {
     "name": "stdout",
     "output_type": "stream",
     "text": [
      "                             sum_sq     df          F    PR(>F)\n",
      "C(idpAgreement)           14.451266    1.0   6.592735  0.010553\n",
      "C(acc)                    31.862339    1.0  14.535748  0.000156\n",
      "C(idpAgreement):C(acc)     2.541251    1.0   1.159330  0.282166\n",
      "Residual                1012.703337  462.0        NaN       NaN\n",
      "      Multiple Comparison of Means - Tukey HSD, FWER=0.05      \n",
      "===============================================================\n",
      "   group1       group2    meandiff p-adj   lower  upper  reject\n",
      "---------------------------------------------------------------\n",
      "agree50acc50 agree50acc80   0.3836 0.1828 -0.1065 0.8737  False\n",
      "agree50acc50 agree80acc50   0.2165 0.6347 -0.2649 0.6978  False\n",
      "agree50acc50 agree80acc80   0.8968  0.001  0.3912 1.4023   True\n",
      "agree50acc80 agree80acc50  -0.1671  0.801 -0.6665 0.3323  False\n",
      "agree50acc80 agree80acc80   0.5132 0.0565 -0.0096 1.0359  False\n",
      "agree80acc50 agree80acc80   0.6803 0.0039  0.1658 1.1948   True\n",
      "---------------------------------------------------------------\n"
     ]
    }
   ],
   "source": [
    "anova(all_res,\"trustSurvey\")"
   ]
  },
  {
   "cell_type": "code",
   "execution_count": null,
   "metadata": {},
   "outputs": [],
   "source": []
  }
 ],
 "metadata": {
  "kernelspec": {
   "display_name": "Python 3",
   "language": "python",
   "name": "python3"
  },
  "language_info": {
   "codemirror_mode": {
    "name": "ipython",
    "version": 3
   },
   "file_extension": ".py",
   "mimetype": "text/x-python",
   "name": "python",
   "nbconvert_exporter": "python",
   "pygments_lexer": "ipython3",
   "version": "3.8.3"
  }
 },
 "nbformat": 4,
 "nbformat_minor": 4
}
