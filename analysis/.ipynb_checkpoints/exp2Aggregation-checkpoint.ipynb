{
 "cells": [
  {
   "cell_type": "code",
   "execution_count": 1,
   "metadata": {},
   "outputs": [],
   "source": [
    "import numpy as np\n",
    "import pandas as pd\n",
    "import json\n",
    "import matplotlib.pyplot as plt\n",
    "import datetime\n",
    "np.random_state=42\n",
    "from scipy import stats\n",
    "from sklearn.linear_model import LinearRegression,Lasso\n",
    "import statsmodels.api as sm\n",
    "from statsmodels.stats.multicomp import pairwise_tukeyhsd\n",
    "from statsmodels.formula.api import ols\n"
   ]
  },
  {
   "cell_type": "code",
   "execution_count": 2,
   "metadata": {},
   "outputs": [],
   "source": [
    "finalPredictionsValid = pd.read_csv(\"../data/expTwoFinalPredictionsValid1125.csv\")\n",
    "infosValid = pd.read_csv(\"../data/expTwoInfosValid1125.csv\")\n",
    "workerIdList = list(set(finalPredictionsValid[\"workerId\"]))\n",
    "all_instances = pd.read_csv(\"../rawData/datingData/all_instances.csv\")"
   ]
  },
  {
   "cell_type": "code",
   "execution_count": null,
   "metadata": {},
   "outputs": [],
   "source": []
  },
  {
   "cell_type": "code",
   "execution_count": null,
   "metadata": {},
   "outputs": [],
   "source": []
  },
  {
   "cell_type": "code",
   "execution_count": null,
   "metadata": {},
   "outputs": [],
   "source": [
    "res = pd.DataFrame()\n",
    "for elem in workerIdList:\n",
    "\n",
    "    temp = pd.DataFrame()\n",
    "    workerAnswerPhaseOne = finalPredictionsValid.query(\"workerId=='\"+str(elem)+\"'\").query(\"taskId<22\")\n",
    "    workerAnswerPhaseTwo = finalPredictionsValid.query(\"workerId=='\"+str(elem)+\"'\").query(\"taskId>=22\")\n",
    "    allDisSwitch = np.sum(finalPredictionsValid.query(\"workerId=='\"+str(elem)+\"'\")[\"selfPrediction\"]==finalPredictionsValid.query(\"workerId=='\"+str(elem)+\"'\")[\"finalPrediction\"])\n",
    "    #     tempA\n",
    "    workerInfo = infosValid.query(\"workerId=='\"+str(elem)+\"'\")\n",
    "    \n",
    "    phaseOneAgreementFraction = np.mean(workerAnswerPhaseOne[\"finalAgreement\"])\n",
    "    phaseOneSelfAccuracy = np.mean(workerAnswerPhaseOne[\"selfCorrect\"])\n",
    "    temp[\"trustSurvey\"] = infosValid.query(\"workerId=='\"+str(elem)+\"'\")[\"surveyTrust\"].values\n",
    "    temp[\"actualAgreement\"] = [np.mean(workerAnswerPhaseOne[\"agreement\"])]\n",
    "    \n",
    "    finalAgree1 = workerAnswerPhaseTwo.query(\"selfPrediction==1\").query(\"agreement==0\").query(\"finalPrediction==0\")\n",
    "    finalAgree2 = workerAnswerPhaseTwo.query(\"selfPrediction==0\").query(\"agreement==0\").query(\"finalPrediction==1\")\n",
    "    finalAgree3 = workerAnswerPhaseTwo.query(\"selfPrediction==1\").query(\"agreement==1\").query(\"finalPrediction==1\")\n",
    "    finalAgree4 = workerAnswerPhaseTwo.query(\"selfPrediction==0\").query(\"agreement==1\").query(\"finalPrediction==0\")\n",
    "    agreementFraction = (len(finalAgree1)+len(finalAgree2)+len(finalAgree3)+len(finalAgree4))/10\n",
    "    agreementFraction = np.mean(workerAnswerPhaseTwo[\"finalAgreement\"])\n",
    "    \n",
    "    disagreement = workerAnswerPhaseTwo.query(\"agreement==0\")\n",
    "    switchFromOne = workerAnswerPhaseTwo.query(\"agreement==0\").query(\"selfPrediction==1\").query(\"finalPrediction==0\")\n",
    "    switchFromZero = workerAnswerPhaseTwo.query(\"agreement==0\").query(\"selfPrediction==0\").query(\"finalPrediction==1\")\n",
    "    switchWhenAgreeFromZero = workerAnswerPhaseTwo.query(\"agreement==1\").query(\"selfPrediction==0\").query(\"finalPrediction==1\")\n",
    "    switchWhenAgreeFromOne = workerAnswerPhaseTwo.query(\"agreement==1\").query(\"selfPrediction==1\").query(\"finalPrediction==0\")\n",
    "    \n",
    "    disAgreeSwitch = len(finalAgree1)+len(finalAgree2)\n",
    "    agreeDisSwitch = len(finalAgree3)+len(finalAgree4)\n",
    "\n",
    "    agreeSwitch = len(switchWhenAgreeFromZero)+len(switchWhenAgreeFromOne)\n",
    "    \n",
    "    disAgreeDisSwitch = len(\n",
    "        workerAnswerPhaseTwo.query(\"selfPrediction==1\").query(\"agreement==0\").query(\"finalPrediction==1\"))+len(\n",
    "        workerAnswerPhaseTwo.query(\"selfPrediction==0\").query(\"agreement==0\").query(\"finalPrediction==0\"))\n",
    "    \n",
    "    if len(disagreement)!=0:\n",
    "        switchFraction = (len(switchFromOne)+len(switchFromZero))/len(disagreement)\n",
    "    else:\n",
    "        switchFraction = -1\n",
    "    switchWhenAgree = len(switchWhenAgreeFromZero)+len(switchWhenAgreeFromOne)\n",
    "    finalAccuracy = np.mean(workerAnswerPhaseTwo[\"finalCorrect\"])\n",
    "    temp[\"agreeDisSwitch\"] = [agreeDisSwitch]\n",
    "    temp[\"agreeSwitch\"] = [agreeSwitch]\n",
    "    temp[\"disAgreeSwitch\"] = [disAgreeSwitch]\n",
    "    temp[\"disAgreeDisSwitch\"] = [disAgreeDisSwitch]\n",
    "    temp[\"allDisSwitch\"] = [allDisSwitch]\n",
    "    temp[\"finalAccuracy\"] = [finalAccuracy]      \n",
    "    temp[\"workerId\"] = [elem]  \n",
    "    temp[\"agreementFraction\"] = [agreementFraction]\n",
    "    temp[\"switchFraction\"] = [switchFraction]\n",
    "\n",
    "    idpAgreement = np.mean(workerAnswerPhaseTwo[\"idpAgreement\"])\n",
    "    acc = np.mean(workerAnswerPhaseTwo[\"acc\"])\n",
    "    treatment = np.mean(workerAnswerPhaseTwo[\"treatment\"])\n",
    "    temp[\"idpAgreement\"] = idpAgreement\n",
    "    temp[\"acc\"] = acc\n",
    "    temp[\"treatment\"] = treatment\n",
    "    temp[\"competence\"] = [int(workerInfo[\"competence\"])]\n",
    "    temp[\"faith\"] = [int(workerInfo[\"faith\"])]\n",
    "    temp[\"understandability\"] = [int(workerInfo[\"understandability\"])]\n",
    "    temp[\"reliability\"] = [int(workerInfo[\"reliability\"])]\n",
    "    res = res.append(temp)"
   ]
  },
  {
   "cell_type": "code",
   "execution_count": null,
   "metadata": {},
   "outputs": [],
   "source": [
    "supplementary_res = pd.DataFrame()\n",
    "for elem in workerIdList:\n",
    "    temp = pd.DataFrame()\n",
    "    \n",
    "    workerAnswerAll = finalPredictionsValid.query(\"workerId=='\"+str(elem)+\"'\")\n",
    "    workerAnswerPhaseOne = finalPredictionsValid.query(\"workerId=='\"+str(elem)+\"'\").query(\"taskId<22\")\n",
    "    workerAnswerPhaseTwo = finalPredictionsValid.query(\"workerId=='\"+str(elem)+\"'\").query(\"taskId>=22\")\n",
    "    workerAnswerPhaseOnePartThree = finalPredictionsValid.query(\"workerId=='\"+str(elem)+\"'\").query(\"taskId>=11\").query(\"taskId<=15\")\n",
    "    workerAnswerPhaseOnePartFour = finalPredictionsValid.query(\"workerId=='\"+str(elem)+\"'\").query(\"taskId>15\").query(\"taskId<=22\")\n",
    "\n",
    "    phaseOneSelfAccuracy = np.mean(workerAnswerPhaseOne[\"selfCorrect\"])\n",
    "    phaseTwoSelfAccuracy = np.mean(workerAnswerPhaseTwo[\"selfCorrect\"])\n",
    "    \n",
    "    phaseOneFinalAccuracy = np.mean(workerAnswerPhaseOne[\"finalCorrect\"])\n",
    "    phaseTwoFinalAccuracy = np.mean(workerAnswerPhaseTwo[\"finalCorrect\"])\n",
    "    \n",
    "    phaseOneSelfAccuracyMlcorrect = np.mean(workerAnswerPhaseOne.query(\"mlCorrect==True\")[\"selfCorrect\"])\n",
    "    phaseOneSelfAccuracyMlincorrect = np.mean(workerAnswerPhaseOne.query(\"mlCorrect==False\")[\"selfCorrect\"])\n",
    "    phaseTwoSelfAccuracyMlcorrect = np.mean(workerAnswerPhaseTwo.query(\"mlCorrect==True\")[\"selfCorrect\"])\n",
    "    phaseTwoSelfAccuracyMlincorrect = np.mean(workerAnswerPhaseTwo.query(\"mlCorrect==False\")[\"selfCorrect\"])\n",
    "    \n",
    "    phaseOneFinalAccuracyMlcorrect = np.mean(workerAnswerPhaseOne.query(\"mlCorrect==True\")[\"finalCorrect\"])\n",
    "    phaseOneFinalAccuracyMlincorrect = np.mean(workerAnswerPhaseOne.query(\"mlCorrect==False\")[\"finalCorrect\"])\n",
    "    phaseTwoFinalAccuracyMlcorrect = np.mean(workerAnswerPhaseTwo.query(\"mlCorrect==True\")[\"finalCorrect\"])\n",
    "    phaseTwoFinalAccuracyMlincorrect = np.mean(workerAnswerPhaseTwo.query(\"mlCorrect==False\")[\"finalCorrect\"])   \n",
    "    \n",
    "    phaseTwoAgreementFrationMlCorrect = np.mean(workerAnswerPhaseTwo.query(\"mlCorrect==True\")[\"finalAgreement\"])\n",
    "    phaseTwoAgreementFrationMlIncorrect = np.mean(workerAnswerPhaseTwo.query(\"mlCorrect==False\")[\"finalAgreement\"])\n",
    "    phaseTwoSwitchFractionM1Correct = np.mean((workerAnswerPhaseTwo.query(\"mlCorrect==True\")[\"switch\"]))\n",
    "    phaseTwoSwitchFractionM1Incorrect = np.mean((workerAnswerPhaseTwo.query(\"mlCorrect==False\")[\"switch\"]))\n",
    "\n",
    "    idpAgreementPhaseOnePartThree = np.mean(workerAnswerPhaseOnePartThree[\"agreement\"])\n",
    "    idpAgreementPhaseOnePartFour = np.mean(workerAnswerPhaseOnePartFour[\"agreement\"])\n",
    "\n",
    "    allSelfAccuracy = np.mean(workerAnswerAll[\"selfCorrect\"])\n",
    "    allFinalAccuracy = np.mean(workerAnswerAll[\"finalCorrect\"])\n",
    "    allFinalAccuracyMlcorrect = np.mean(workerAnswerAll.query(\"mlCorrect==True\")[\"finalCorrect\"])\n",
    "    allFinalAccuracyMlincorrect = np.mean(workerAnswerAll.query(\"mlCorrect==False\")[\"finalCorrect\"])\n",
    "    \n",
    "    temp[\"phaseTwoCorr\"] = [phaseTwoCorr[0]] \n",
    "    temp[\"phaseOneCorr\"] = [phaseOneCorr[0]] \n",
    "    temp[\"workerId\"] = [elem]\n",
    "    temp[\"phaseTwoActualAgreement\"] = np.mean(workerAnswerPhaseTwo[\"agreement\"])\n",
    "    temp[\"idpAgreement\"] = [workerAnswerPhaseOne[\"idpAgreement\"].values[0]] \n",
    "                                 \n",
    "    temp[\"phaseTwoAgreementFrationMlCorrect\"] = [phaseTwoAgreementFrationMlCorrect]      \n",
    "    temp[\"phaseTwoAgreementFrationMlIncorrect\"] = [phaseTwoAgreementFrationMlIncorrect]      \n",
    "    temp[\"phaseTwoSwitchFractionM1Correct\"] = [phaseTwoSwitchFractionM1Correct]      \n",
    "    temp[\"phaseTwoSwitchFractionM1Incorrect\"] = [phaseTwoSwitchFractionM1Incorrect]      \n",
    "    temp[\"idpAgreementPhaseOnePartThree\"] = [idpAgreementPhaseOnePartThree] \n",
    "    temp[\"idpAgreementPhaseOnePartFour\"] = [idpAgreementPhaseOnePartFour] \n",
    "\n",
    "    temp[\"allSelfAccuracy\"] = [allSelfAccuracy]      \n",
    "    temp[\"allFinalAccuracy\"] = [allFinalAccuracy]  \n",
    "    temp[\"allFinalAccuracyMlcorrect\"] = [allFinalAccuracyMlcorrect]  \n",
    "    temp[\"allFinalAccuracyMlincorrect\"] = [allFinalAccuracyMlincorrect]  \n",
    "    temp[\"phaseOneSelfAccuracy\"] = [phaseOneSelfAccuracy]      \n",
    "    temp[\"phaseTwoSelfAccuracy\"] = [phaseTwoSelfAccuracy]      \n",
    "    temp[\"phaseOneFinalAccuracy\"] = [phaseOneFinalAccuracy]      \n",
    "    temp[\"phaseTwoFinalAccuracy\"] = [phaseTwoFinalAccuracy]\n",
    "    temp[\"phaseOneSelfAccuracyMlcorrect\"] = [phaseOneSelfAccuracyMlcorrect]      \n",
    "    temp[\"phaseOneSelfAccuracyMlincorrect\"] = [phaseOneSelfAccuracyMlincorrect]  \n",
    "    temp[\"phaseTwoSelfAccuracyMlcorrect\"] = [phaseTwoSelfAccuracyMlcorrect]      \n",
    "    temp[\"phaseTwoSelfAccuracyMlincorrect\"] = [phaseTwoSelfAccuracyMlincorrect]\n",
    "    temp[\"phaseOneFinalAccuracyMlcorrect\"] = [phaseOneFinalAccuracyMlcorrect]      \n",
    "    temp[\"phaseOneFinalAccuracyMlincorrect\"] = [phaseOneFinalAccuracyMlincorrect]      \n",
    "    temp[\"phaseTwoFinalAccuracyMlcorrect\"] = [phaseTwoFinalAccuracyMlcorrect]      \n",
    "    temp[\"phaseTwoFinalAccuracyMlincorrect\"] = [phaseTwoFinalAccuracyMlincorrect]      \n",
    "    supplementary_res = supplementary_res.append(temp)"
   ]
  },
  {
   "cell_type": "code",
   "execution_count": null,
   "metadata": {},
   "outputs": [],
   "source": [
    "treatmentLabelDict = {0:\"agree50acc50\",1:\"agree80acc50\",2:\"agree50acc80\",3:\"agree80acc80\"}\n",
    "res[\"treatmentLabel\"] = res[\"treatment\"].apply(lambda x: treatmentLabelDict[x])"
   ]
  },
  {
   "cell_type": "code",
   "execution_count": null,
   "metadata": {},
   "outputs": [],
   "source": [
    "all_res = pd.merge(res,supplementary_res,on=[\"workerId\",\"idpAgreement\"])\n",
    "res.to_csv(\"../data/exp2Res1125.csv\")"
   ]
  },
  {
   "cell_type": "markdown",
   "metadata": {},
   "source": [
    "res"
   ]
  },
  {
   "cell_type": "code",
   "execution_count": null,
   "metadata": {},
   "outputs": [],
   "source": [
    "group_list = [res.query(\"treatment==@i\") for i in range(4)]\n",
    "print(\"ANOVA on actual agreement (low acc)\",\n",
    "      \":\",stats.f_oneway(group_list[0][\"actualAgreement\"],group_list[1][\"actualAgreement\"] ))\n",
    "print(\"ANOVA on actual agreement (high acc)\",\n",
    "      \":\",stats.f_oneway(group_list[2][\"actualAgreement\"],group_list[3][\"actualAgreement\"] ))\n",
    "\n",
    "[np.mean(elem[\"actualAgreement\"]) for elem in group_list]"
   ]
  },
  {
   "cell_type": "code",
   "execution_count": null,
   "metadata": {},
   "outputs": [],
   "source": [
    "res_anova_dp_list = [\"agreementFraction\",\"switchFraction\",\"phaseTwoAgreementFrationMlCorrect\",\"phaseTwoSwitchFractionM1Correct\",\"phaseTwoAgreementFrationMlIncorrect\",\"phaseTwoSwitchFractionM1Incorrect\"]"
   ]
  },
  {
   "cell_type": "code",
   "execution_count": null,
   "metadata": {},
   "outputs": [],
   "source": [
    "def assumption_test(df,dp_list):\n",
    "    for elem in dp_list:\n",
    "        for group in range(4):\n",
    "            print(group,\"normality\", stats.shapiro(df.query(\"treatment==@group\")[elem]))\n",
    "        print(\"homogeneity\",stats.bartlett(df.query(\"treatment==0\")[elem],df.query(\"treatment==1\")[elem],df.query(\"treatment==2\")[elem],df.query(\"treatment==3\")[elem]))\n"
   ]
  },
  {
   "cell_type": "code",
   "execution_count": null,
   "metadata": {},
   "outputs": [],
   "source": [
    "assumption_test(all_res,res_anova_dp_list)"
   ]
  },
  {
   "cell_type": "markdown",
   "metadata": {},
   "source": [
    "### main effect"
   ]
  },
  {
   "cell_type": "code",
   "execution_count": null,
   "metadata": {},
   "outputs": [],
   "source": []
  },
  {
   "cell_type": "code",
   "execution_count": null,
   "metadata": {},
   "outputs": [],
   "source": [
    "def anova(df,measure):\n",
    "    group0 = df.query(\"treatment==0\")[measure]\n",
    "    group1 = df.query(\"treatment==1\")[measure]\n",
    "    group2 = df.query(\"treatment==2\")[measure]\n",
    "    group3 = df.query(\"treatment==3\")[measure]\n",
    "    moore_lm = ols(measure+' ~ C(idpAgreement)*C(acc)', data=df).fit()\n",
    "    table = sm.stats.anova_lm(moore_lm, typ=2)\n",
    "    print(table)\n",
    "    m_comp = pairwise_tukeyhsd(endog=df[measure], groups=df['treatmentLabel'], alpha=0.05)\n",
    "    print(m_comp)"
   ]
  },
  {
   "cell_type": "code",
   "execution_count": null,
   "metadata": {},
   "outputs": [],
   "source": [
    "anova(all_res,\"agreementFraction\")\n",
    "anova(all_res,\"switchFraction\")"
   ]
  },
  {
   "cell_type": "code",
   "execution_count": null,
   "metadata": {},
   "outputs": [],
   "source": [
    "anova(all_res,\"trustSurvey\")"
   ]
  },
  {
   "cell_type": "code",
   "execution_count": null,
   "metadata": {},
   "outputs": [],
   "source": []
  }
 ],
 "metadata": {
  "kernelspec": {
   "display_name": "Python 3",
   "language": "python",
   "name": "python3"
  },
  "language_info": {
   "codemirror_mode": {
    "name": "ipython",
    "version": 3
   },
   "file_extension": ".py",
   "mimetype": "text/x-python",
   "name": "python",
   "nbconvert_exporter": "python",
   "pygments_lexer": "ipython3",
   "version": "3.8.3"
  }
 },
 "nbformat": 4,
 "nbformat_minor": 4
}
