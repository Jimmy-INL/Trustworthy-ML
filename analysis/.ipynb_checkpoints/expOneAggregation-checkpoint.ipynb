{
 "cells": [
  {
   "cell_type": "code",
   "execution_count": 1,
   "metadata": {},
   "outputs": [],
   "source": [
    "import numpy as np\n",
    "import pandas as pd\n",
    "import json\n",
    "import matplotlib.pyplot as plt\n",
    "import datetime\n",
    "np.random_state=42\n",
    "from scipy import stats\n",
    "from sklearn.linear_model import LinearRegression,Lasso\n",
    "import statsmodels.api as sm\n",
    "from statsmodels.stats.multicomp import pairwise_tukeyhsd\n"
   ]
  },
  {
   "cell_type": "code",
   "execution_count": 2,
   "metadata": {},
   "outputs": [],
   "source": [
    "finalPredictionsValid = pd.read_csv(\"../data/expOneFinalPredictionsValid1125.csv\")\n",
    "infosValid = pd.read_csv(\"../data/expOneInfosValid1125.csv\")\n",
    "workerIdList = list(set(finalPredictionsValid[\"workerId\"]))"
   ]
  },
  {
   "cell_type": "code",
   "execution_count": 3,
   "metadata": {},
   "outputs": [],
   "source": [
    "res = pd.DataFrame()\n",
    "for elem in workerIdList:\n",
    "\n",
    "    temp = pd.DataFrame()\n",
    "    workerAnswerPhaseOne = finalPredictionsValid.query(\"workerId==@elem\").query(\"taskId<22\")\n",
    "    workerAnswerPhaseTwo = finalPredictionsValid.query(\"workerId==@elem\").query(\"taskId>=22\")\n",
    "    workerInfo = infosValid.query(\"workerId==@elem\")\n",
    "    \n",
    "    temp[\"actualAgreement\"] = [np.mean(workerAnswerPhaseOne[\"agreement\"])]\n",
    "    \n",
    "    finalAgree1 = workerAnswerPhaseTwo.query(\"selfPrediction==1\").query(\"agreement==0\").query(\"finalPrediction==0\")\n",
    "    finalAgree2 = workerAnswerPhaseTwo.query(\"selfPrediction==0\").query(\"agreement==0\").query(\"finalPrediction==1\")\n",
    "    finalAgree3 = workerAnswerPhaseTwo.query(\"selfPrediction==1\").query(\"agreement==1\").query(\"finalPrediction==1\")\n",
    "    finalAgree4 = workerAnswerPhaseTwo.query(\"selfPrediction==0\").query(\"agreement==1\").query(\"finalPrediction==0\")\n",
    "    agreementFraction = np.mean(workerAnswerPhaseTwo[\"finalAgreement\"])\n",
    "    \n",
    "    disagreement = workerAnswerPhaseTwo.query(\"agreement==0\")\n",
    "    switchFromOne = workerAnswerPhaseTwo.query(\"agreement==0\").query(\"selfPrediction==1\").query(\"finalPrediction==0\")\n",
    "    switchFromZero = workerAnswerPhaseTwo.query(\"agreement==0\").query(\"selfPrediction==0\").query(\"finalPrediction==1\")\n",
    "    switchWhenAgreeFromZero = workerAnswerPhaseTwo.query(\"agreement==1\").query(\"selfPrediction==0\").query(\"finalPrediction==1\")\n",
    "    switchWhenAgreeFromOne = workerAnswerPhaseTwo.query(\"agreement==1\").query(\"selfPrediction==1\").query(\"finalPrediction==0\")\n",
    "    \n",
    "    disAgreeSwitch = len(finalAgree1)+len(finalAgree2)\n",
    "    agreeSwitch = len(switchWhenAgreeFromZero)+len(switchWhenAgreeFromOne)\n",
    "    agreeDisSwitch = len(finalAgree3)+len(finalAgree4)\n",
    "    disAgreeDisSwitch = len(\n",
    "        workerAnswerPhaseTwo.query(\"selfPrediction==1\").query(\"agreement==0\").query(\"finalPrediction==1\"))+len(\n",
    "        workerAnswerPhaseTwo.query(\"selfPrediction==0\").query(\"agreement==0\").query(\"finalPrediction==0\"))\n",
    "    if len(disagreement)!=0:\n",
    "        switchFraction = (len(switchFromOne)+len(switchFromZero))/len(disagreement)\n",
    "    else:\n",
    "        switchFraction = -1\n",
    "    switchWhenAgree = len(switchWhenAgreeFromZero)+len(switchWhenAgreeFromOne)\n",
    "\n",
    "    temp[\"workerId\"] = [elem]  \n",
    "\n",
    "    temp[\"agreementFraction\"] = [agreementFraction]\n",
    "    temp[\"switchFraction\"] = [switchFraction]\n",
    "\n",
    "    idpAgreement = np.mean(workerAnswerPhaseTwo[\"idpAgreement\"])\n",
    "    temp[\"idpAgreement\"] = idpAgreement\n",
    "    temp[\"competence\"] = [int(workerInfo[\"competence\"])]\n",
    "    temp[\"faith\"] = [int(workerInfo[\"faith\"])]\n",
    "    temp[\"understandability\"] = [int(workerInfo[\"understandability\"])]\n",
    "    temp[\"reliability\"] = [int(workerInfo[\"reliability\"])]\n",
    "    temp[\"humanPredictAccuracy\"] = [int(workerInfo[\"humanPredictAccuracy\"])]\n",
    "    res = res.append(temp)"
   ]
  },
  {
   "cell_type": "code",
   "execution_count": 4,
   "metadata": {},
   "outputs": [],
   "source": [
    "supplementary_res = pd.DataFrame()\n",
    "for elem in workerIdList:\n",
    "    temp = pd.DataFrame()\n",
    "    temp[\"workerId\"]= [elem]\n",
    "    workerAnswerAll = finalPredictionsValid.query(\"workerId=='\"+str(elem)+\"'\")\n",
    "    workerAnswerPhaseOne = finalPredictionsValid.query(\"workerId=='\"+str(elem)+\"'\").query(\"taskId<22\")\n",
    "    workerAnswerPhaseTwo = finalPredictionsValid.query(\"workerId=='\"+str(elem)+\"'\").query(\"taskId>=22\")\n",
    "#     workerInfo = infos.query(\"workerId=='\"+str(elem)+\"'\")\n",
    "    \n",
    "    phaseOneSelfAccuracy = np.mean(workerAnswerPhaseOne[\"selfCorrect\"])\n",
    "    phaseTwoSelfAccuracy = np.mean(workerAnswerPhaseTwo[\"selfCorrect\"])\n",
    "    \n",
    "    phaseOneFinalAccuracy = np.mean(workerAnswerPhaseOne[\"finalCorrect\"])\n",
    "    phaseTwoFinalAccuracy = np.mean(workerAnswerPhaseTwo[\"finalCorrect\"])\n",
    "    \n",
    "    phaseOneSelfAccuracyMlcorrect = np.mean(workerAnswerPhaseOne.query(\"mlCorrect==True\")[\"selfCorrect\"])\n",
    "    phaseOneSelfAccuracyMlincorrect = np.mean(workerAnswerPhaseOne.query(\"mlCorrect==False\")[\"selfCorrect\"])\n",
    "    phaseTwoSelfAccuracyMlcorrect = np.mean(workerAnswerPhaseTwo.query(\"mlCorrect==True\")[\"selfCorrect\"])\n",
    "    phaseTwoSelfAccuracyMlincorrect = np.mean(workerAnswerPhaseTwo.query(\"mlCorrect==False\")[\"selfCorrect\"])\n",
    "    \n",
    "    phaseOneFinalAccuracyMlcorrect = np.mean(workerAnswerPhaseOne.query(\"mlCorrect==True\")[\"finalCorrect\"])\n",
    "    phaseOneFinalAccuracyMlincorrect = np.mean(workerAnswerPhaseOne.query(\"mlCorrect==False\")[\"finalCorrect\"])\n",
    "    phaseTwoFinalAccuracyMlcorrect = np.mean(workerAnswerPhaseTwo.query(\"mlCorrect==True\")[\"finalCorrect\"])\n",
    "    phaseTwoFinalAccuracyMlincorrect = np.mean(workerAnswerPhaseTwo.query(\"mlCorrect==False\")[\"finalCorrect\"]) \n",
    "    \n",
    "    phaseTwoAgreementFrationMlCorrect = np.mean(workerAnswerPhaseTwo.query(\"mlCorrect==True\")[\"finalAgreement\"])\n",
    "    phaseTwoAgreementFrationMlIncorrect = np.mean(workerAnswerPhaseTwo.query(\"mlCorrect==False\")[\"finalAgreement\"])\n",
    "    \n",
    "    phaseTwoSwitchFractionM1Correct = np.mean((workerAnswerPhaseTwo.query(\"mlCorrect==True\").query(\"agreement==0\")[\"switch\"]))\n",
    "    phaseTwoSwitchFractionM1Incorrect = np.mean((workerAnswerPhaseTwo.query(\"mlCorrect==False\").query(\"agreement==0\")[\"switch\"]))\n",
    "    \n",
    "    allSelfAccuracy = np.mean(workerAnswerAll[\"selfCorrect\"])\n",
    "    allFinalAccuracy = np.mean(workerAnswerAll[\"finalCorrect\"])\n",
    "    allFinalAccuracyMlcorrect = np.mean(workerAnswerAll.query(\"mlCorrect==True\")[\"finalCorrect\"])\n",
    "    allFinalAccuracyMlincorrect = np.mean(workerAnswerAll.query(\"mlCorrect==False\")[\"finalCorrect\"])\n",
    "\n",
    "    temp[\"idpAgreement\"] = [workerAnswerPhaseOne[\"idpAgreement\"].values[0]] \n",
    "                                                \n",
    "    temp[\"phaseTwoAgreementFractionMLCorrect\"] = [phaseTwoAgreementFrationMlCorrect]      \n",
    "    temp[\"phaseTwoAgreementFractionMLIncorrect\"] = [phaseTwoAgreementFrationMlIncorrect]   \n",
    "    \n",
    "    temp[\"phaseTwoSwitchFractionMLCorrect\"] = [phaseTwoSwitchFractionM1Correct]      \n",
    "    temp[\"phaseTwoSwitchFractionMLIncorrect\"] = [phaseTwoSwitchFractionM1Incorrect]      \n",
    "    temp[\"phaseTwoActualAgreement\"] = [np.mean(workerAnswerPhaseTwo[\"agreement\"])]\n",
    "    temp[\"phaseTwoActualAgreementMLCorrect\"] = [np.mean(workerAnswerPhaseTwo.query(\"mlCorrect==True\")[\"agreement\"])]\n",
    "    temp[\"phaseTwoActualAgreementMLIncorrect\"] = [np.mean(workerAnswerPhaseTwo.query(\"mlCorrect==False\")[\"agreement\"])]\n",
    "\n",
    "    temp[\"allSelfAccuracy\"] = [allSelfAccuracy]      \n",
    "    temp[\"allFinalAccuracy\"] = [allFinalAccuracy]  \n",
    "    temp[\"allFinalAccuracyMLcorrect\"] = [allFinalAccuracyMlcorrect]  \n",
    "    temp[\"allFinalAccuracyMLincorrect\"] = [allFinalAccuracyMlincorrect]  \n",
    "    temp[\"phaseOneSelfAccuracy\"] = [phaseOneSelfAccuracy]      \n",
    "    temp[\"phaseTwoSelfAccuracy\"] = [phaseTwoSelfAccuracy]      \n",
    "    temp[\"phaseOneFinalAccuracy\"] = [phaseOneFinalAccuracy]      \n",
    "    temp[\"phaseTwoFinalAccuracy\"] = [phaseTwoFinalAccuracy]\n",
    "    temp[\"phaseOneSelfAccuracyMLcorrect\"] = [phaseOneSelfAccuracyMlcorrect]      \n",
    "    temp[\"phaseOneSelfAccuracyMLincorrect\"] = [phaseOneSelfAccuracyMlincorrect]  \n",
    "    temp[\"phaseTwoSelfAccuracyMLcorrect\"] = [phaseTwoSelfAccuracyMlcorrect]      \n",
    "    temp[\"phaseTwoSelfAccuracyMLincorrect\"] = [phaseTwoSelfAccuracyMlincorrect]\n",
    "    temp[\"phaseOneFinalAccuracyMLcorrect\"] = [phaseOneFinalAccuracyMlcorrect]      \n",
    "    temp[\"phaseOneFinalAccuracyMLincorrect\"] = [phaseOneFinalAccuracyMlincorrect]      \n",
    "    temp[\"phaseTwoFinalAccuracyMLcorrect\"] = [phaseTwoFinalAccuracyMlcorrect]      \n",
    "    temp[\"phaseTwoFinalAccuracyMLincorrect\"] = [phaseTwoFinalAccuracyMlincorrect]      \n",
    "    supplementary_res = supplementary_res.append(temp)"
   ]
  },
  {
   "cell_type": "code",
   "execution_count": 5,
   "metadata": {},
   "outputs": [],
   "source": [
    "res.to_csv(\"../data/exp1Res1125.csv\")\n",
    "all_res = pd.merge(res,supplementary_res,on=[\"workerId\",\"idpAgreement\"])\n",
    "all_res = all_res.replace(np.nan,-1)"
   ]
  },
  {
   "cell_type": "code",
   "execution_count": 6,
   "metadata": {},
   "outputs": [],
   "source": [
    "res_anova_dp_list = [\"agreementFraction\",\"switchFraction\",\"humanPredictAccuracy\",\"phaseTwoAgreementFractionMLCorrect\",\"phaseTwoSwitchFractionMLCorrect\",\"phaseTwoAgreementFractionMLIncorrect\",\"phaseTwoSwitchFractionMLIncorrect\"]"
   ]
  },
  {
   "cell_type": "markdown",
   "metadata": {},
   "source": [
    "### actual agreement level and manipulation validation test"
   ]
  },
  {
   "cell_type": "code",
   "execution_count": 7,
   "metadata": {},
   "outputs": [
    {
     "name": "stdout",
     "output_type": "stream",
     "text": [
      "ANOVA on actual agreement : F_onewayResult(statistic=402.2501163207698, pvalue=2.206980875989302e-85)\n"
     ]
    },
    {
     "data": {
      "text/plain": [
       "[0.44629629629629597, 0.6725663716814164, 0.9018750000000001]"
      ]
     },
     "execution_count": 7,
     "metadata": {},
     "output_type": "execute_result"
    }
   ],
   "source": [
    "group0 = all_res.query(\"idpAgreement==40\")\n",
    "group1 = all_res.query(\"idpAgreement==70\")\n",
    "group2 = all_res.query(\"idpAgreement==100\")\n",
    "group_list = [group0,group1,group2]\n",
    "print(\"ANOVA on actual agreement\",\":\",stats.f_oneway(group0[\"actualAgreement\"], group1[\"actualAgreement\"],group2[\"actualAgreement\"]))\n",
    "[np.mean(elem[\"actualAgreement\"]) for elem in group_list]"
   ]
  },
  {
   "cell_type": "code",
   "execution_count": 8,
   "metadata": {},
   "outputs": [],
   "source": [
    "def assumption_test(df,dp_list):\n",
    "    for elem in dp_list:\n",
    "        for group in [\"40\",\"70\",\"100\"]:\n",
    "            print(group,\"normality\", stats.shapiro(df.query(\"idpAgreement==@group\")[elem]))\n",
    "        print(\"homogeneity\",stats.bartlett(df.query(\"idpAgreement==40\")[elem],df.query(\"idpAgreement==70\")[elem],df.query(\"idpAgreement==100\")[elem]))"
   ]
  },
  {
   "cell_type": "code",
   "execution_count": 9,
   "metadata": {},
   "outputs": [
    {
     "name": "stdout",
     "output_type": "stream",
     "text": [
      "40 normality ShapiroResult(statistic=0.9366359114646912, pvalue=6.41505976091139e-05)\n",
      "70 normality ShapiroResult(statistic=0.9536248445510864, pvalue=0.0006254945183172822)\n",
      "100 normality ShapiroResult(statistic=0.9526897668838501, pvalue=0.004928960464894772)\n",
      "homogeneity BartlettResult(statistic=4.066206878374029, pvalue=0.1309285611599325)\n",
      "40 normality ShapiroResult(statistic=0.7906626462936401, pvalue=4.2376376713226804e-11)\n",
      "70 normality ShapiroResult(statistic=0.8022269010543823, pvalue=5.035408548459408e-11)\n",
      "100 normality ShapiroResult(statistic=0.8914791345596313, pvalue=5.416158273874316e-06)\n",
      "homogeneity BartlettResult(statistic=2.5757031477979058, pvalue=0.2758628177686535)\n",
      "40 normality ShapiroResult(statistic=0.9777575135231018, pvalue=0.0671272873878479)\n",
      "70 normality ShapiroResult(statistic=0.8752334117889404, pvalue=2.7074703368157316e-08)\n",
      "100 normality ShapiroResult(statistic=0.8274352550506592, pvalue=3.044775098715036e-08)\n",
      "homogeneity BartlettResult(statistic=43.63702713058818, pvalue=3.3445674226893404e-10)\n",
      "40 normality ShapiroResult(statistic=0.9114155769348145, pvalue=2.3685197447775863e-06)\n",
      "70 normality ShapiroResult(statistic=0.9337627291679382, pvalue=2.8721991839120165e-05)\n",
      "100 normality ShapiroResult(statistic=0.9007489085197449, pvalue=1.3099570423946716e-05)\n",
      "homogeneity BartlettResult(statistic=2.7781322321943325, pvalue=0.24930802069723745)\n",
      "40 normality ShapiroResult(statistic=0.799105167388916, pvalue=7.758247516642669e-11)\n",
      "70 normality ShapiroResult(statistic=0.807381808757782, pvalue=7.425155629237068e-11)\n",
      "100 normality ShapiroResult(statistic=0.8917902112007141, pvalue=5.5753248489054386e-06)\n",
      "homogeneity BartlettResult(statistic=2.3926488285041687, pvalue=0.30230331411633093)\n",
      "40 normality ShapiroResult(statistic=0.8727848529815674, pvalue=3.6756219401468115e-08)\n",
      "70 normality ShapiroResult(statistic=0.7759687900543213, pvalue=7.689241604547092e-12)\n",
      "100 normality ShapiroResult(statistic=0.8616255521774292, pvalue=4.062563050410972e-07)\n",
      "homogeneity BartlettResult(statistic=5.626689051339389, pvalue=0.060003971596861244)\n",
      "40 normality ShapiroResult(statistic=0.7328956723213196, pvalue=9.978302906166192e-13)\n",
      "70 normality ShapiroResult(statistic=0.7737274169921875, pvalue=6.596122086033329e-12)\n",
      "100 normality ShapiroResult(statistic=0.8226319551467896, pvalue=2.1714708253739445e-08)\n",
      "homogeneity BartlettResult(statistic=3.8599321287720145, pvalue=0.14515312426043842)\n"
     ]
    }
   ],
   "source": [
    "assumption_test(all_res,res_anova_dp_list)"
   ]
  },
  {
   "cell_type": "markdown",
   "metadata": {},
   "source": [
    "### main effect"
   ]
  },
  {
   "cell_type": "code",
   "execution_count": 10,
   "metadata": {},
   "outputs": [],
   "source": [
    "def cohen_d(x,y):\n",
    "    nx = len(x)\n",
    "    ny = len(y)\n",
    "    dof = nx + ny - 2\n",
    "    return (np.mean(x) - np.mean(y)) / np.sqrt(((nx-1)*np.std(x, ddof=1) ** 2 + (ny-1)*np.std(y, ddof=1) ** 2) / dof)"
   ]
  },
  {
   "cell_type": "code",
   "execution_count": 11,
   "metadata": {},
   "outputs": [],
   "source": [
    "def anova(df,measure):\n",
    "    df = df[df[measure]!=-1]\n",
    "    group0 = df.query(\"idpAgreement==40\")[measure]\n",
    "    group1 = df.query(\"idpAgreement==70\")[measure]\n",
    "    group2 = df.query(\"idpAgreement==100\")[measure]\n",
    "    print(\"n = \",len(group0)+len(group1)+len(group2))\n",
    "    \n",
    "    m_comp = pairwise_tukeyhsd(endog=df[measure], groups=df['idpAgreement'], alpha=0.05)\n",
    "    print(\"ANOVA on\",measure,\":\",stats.f_oneway(group0, group1,group2))\n",
    "    print(\"cohen's d- low-mid: \",cohen_d(group0,group1))\n",
    "    print(\"cohen's d- low-high: \",cohen_d(group0,group2))\n",
    "    print(\"cohen's d- mid-high: \",cohen_d(group1,group2))\n",
    "    print(m_comp)"
   ]
  },
  {
   "cell_type": "code",
   "execution_count": 12,
   "metadata": {},
   "outputs": [
    {
     "name": "stdout",
     "output_type": "stream",
     "text": [
      "n =  301\n",
      "ANOVA on agreementFraction : F_onewayResult(statistic=3.6652232878539923, pvalue=0.026759409341038765)\n",
      "cohen's d- low-mid:  -0.28792582143163326\n",
      "cohen's d- low-high:  -0.3449953699332847\n",
      "cohen's d- mid-high:  -0.08217661473646806\n",
      "Multiple Comparison of Means - Tukey HSD, FWER=0.05\n",
      "===================================================\n",
      "group1 group2 meandiff p-adj   lower  upper  reject\n",
      "---------------------------------------------------\n",
      "  40.0   70.0   0.0585 0.0855 -0.0062 0.1231  False\n",
      "  40.0  100.0   0.0744 0.0372  0.0035 0.1452   True\n",
      "  70.0  100.0   0.0159 0.8397 -0.0543 0.0861  False\n",
      "---------------------------------------------------\n",
      "n =  301\n",
      "ANOVA on switchFraction : F_onewayResult(statistic=5.2412696276833275, pvalue=0.0057924976802248545)\n",
      "cohen's d- low-mid:  -0.17753330645374196\n",
      "cohen's d- low-high:  -0.4934084645406308\n",
      "cohen's d- mid-high:  -0.28773792690934874\n",
      "Multiple Comparison of Means - Tukey HSD, FWER=0.05\n",
      "===================================================\n",
      "group1 group2 meandiff p-adj   lower  upper  reject\n",
      "---------------------------------------------------\n",
      "  40.0   70.0   0.0586 0.3964 -0.0473 0.1645  False\n",
      "  40.0  100.0   0.1592 0.0039  0.0431 0.2753   True\n",
      "  70.0  100.0   0.1006 0.0999 -0.0144 0.2156  False\n",
      "---------------------------------------------------\n"
     ]
    }
   ],
   "source": [
    "anova(all_res,\"agreementFraction\")\n",
    "anova(all_res,\"switchFraction\")"
   ]
  },
  {
   "cell_type": "code",
   "execution_count": 14,
   "metadata": {},
   "outputs": [
    {
     "name": "stdout",
     "output_type": "stream",
     "text": [
      "n =  298\n",
      "ANOVA on phaseTwoSwitchFractionMLCorrect : F_onewayResult(statistic=5.555351165431893, pvalue=0.004282196305602966)\n",
      "cohen's d- low-mid:  -0.19950306995405723\n",
      "cohen's d- low-high:  -0.5158371070539124\n",
      "cohen's d- mid-high:  -0.2831309449891145\n",
      "Multiple Comparison of Means - Tukey HSD, FWER=0.05\n",
      "===================================================\n",
      "group1 group2 meandiff p-adj   lower  upper  reject\n",
      "---------------------------------------------------\n",
      "  40.0   70.0   0.0724  0.308 -0.0438 0.1886  False\n",
      "  40.0  100.0   0.1803 0.0028  0.0528 0.3078   True\n",
      "  70.0  100.0   0.1079  0.111 -0.0184 0.2342  False\n",
      "---------------------------------------------------\n",
      "n =  301\n",
      "ANOVA on phaseTwoAgreementFractionMLIncorrect : F_onewayResult(statistic=4.936219404802463, pvalue=0.007779870433517444)\n",
      "cohen's d- low-mid:  -0.40257916958049195\n",
      "cohen's d- low-high:  -0.31367980527296496\n",
      "cohen's d- mid-high:  0.07175921451883963\n",
      "Multiple Comparison of Means - Tukey HSD, FWER=0.05\n",
      "===================================================\n",
      "group1 group2 meandiff p-adj   lower  upper  reject\n",
      "---------------------------------------------------\n",
      "  40.0   70.0   0.1164 0.0087  0.0245 0.2083   True\n",
      "  40.0  100.0   0.0969 0.0624 -0.0038 0.1977  False\n",
      "  70.0  100.0  -0.0195 0.8813 -0.1193 0.0803  False\n",
      "---------------------------------------------------\n"
     ]
    }
   ],
   "source": [
    "anova(all_res,\"phaseTwoSwitchFractionMLCorrect\")\n",
    "anova(all_res,\"phaseTwoAgreementFractionMLIncorrect\")"
   ]
  },
  {
   "cell_type": "code",
   "execution_count": null,
   "metadata": {},
   "outputs": [],
   "source": []
  },
  {
   "cell_type": "code",
   "execution_count": null,
   "metadata": {},
   "outputs": [],
   "source": []
  },
  {
   "cell_type": "code",
   "execution_count": null,
   "metadata": {},
   "outputs": [],
   "source": []
  }
 ],
 "metadata": {
  "kernelspec": {
   "display_name": "Python 3",
   "language": "python",
   "name": "python3"
  },
  "language_info": {
   "codemirror_mode": {
    "name": "ipython",
    "version": 3
   },
   "file_extension": ".py",
   "mimetype": "text/x-python",
   "name": "python",
   "nbconvert_exporter": "python",
   "pygments_lexer": "ipython3",
   "version": "3.8.3"
  }
 },
 "nbformat": 4,
 "nbformat_minor": 4
}
