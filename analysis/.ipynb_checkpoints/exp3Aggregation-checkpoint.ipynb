{
 "cells": [
  {
   "cell_type": "code",
   "execution_count": 1,
   "metadata": {},
   "outputs": [],
   "source": [
    "import numpy as np\n",
    "import pandas as pd\n",
    "import json\n",
    "import warnings\n",
    "warnings.filterwarnings('ignore')\n",
    "import matplotlib.pyplot as plt\n",
    "import datetime\n",
    "np.random_state=42\n",
    "from scipy import stats\n",
    "import statsmodels.api as sm\n",
    "warnings.filterwarnings('ignore')\n",
    "from statsmodels.stats import power\n",
    "pd.set_option('display.max_colwidth', -1)\n",
    "pd.set_option('display.max_rows', 200)\n",
    "pd.set_option('display.max_columns', 200)\n",
    "import statsmodels.api as sm\n",
    "from statsmodels.formula.api import ols\n",
    "from sklearn.linear_model import LinearRegression\n",
    "from scipy.stats import pearsonr\n",
    "from statsmodels.stats.multicomp import pairwise_tukeyhsd\n"
   ]
  },
  {
   "cell_type": "code",
   "execution_count": 2,
   "metadata": {},
   "outputs": [],
   "source": [
    "finalPredictionsValid = pd.read_csv(\"../data/expThreeFinalPredictionsValid1125.csv\")\n",
    "infosValid = pd.read_csv(\"../data/expThreeInfosValid1125.csv\")\n",
    "workerIdList = list(set(finalPredictionsValid[\"workerId\"]))\n",
    "all_instances = pd.read_csv(\"../rawData/datingData/all_instances.csv\")\n",
    "confAccList = pd.DataFrame()\n",
    "globalIdList = list(finalPredictionsValid[\"globalId\"])\n",
    "for elem in globalIdList:\n",
    "    confAccList = confAccList.append(all_instances[all_instances[\"Unnamed: 0\"]==elem][[\"confidence\",\"accuracy\"]])\n",
    "finalPredictionsValid[\"acc\"] = list(confAccList[\"accuracy\"])\n",
    "finalPredictionsValid[\"conf\"] = list(confAccList[\"confidence\"])"
   ]
  },
  {
   "cell_type": "code",
   "execution_count": null,
   "metadata": {},
   "outputs": [],
   "source": [
    "def summarizeData(df):\n",
    "    res = pd.DataFrame()\n",
    "    for elem in workerIdList:\n",
    "        temp = pd.DataFrame()\n",
    "        \n",
    "        workerAnswerNonCH0 = df.query(\"workerId==@elem\").query(\"taskId<=13\").query(\"globalId!=3156 and globalId!=4786\")\n",
    "        temp[\"trustSurvey\"] = infosValid.query(\"workerId==@elem\")[\"surveyTrust\"].values\n",
    "\n",
    "\n",
    "        workerAnswerPhaseOne = df.query(\"workerId==@elem\").query(\"taskId<=13\")\n",
    "        workerAnswerPhaseTwo = df.query(\"workerId==@elem\").query(\"taskId>13\")\n",
    "        allDisSwitch = np.sum(df.query(\"workerId==@elem\")[\"selfPrediction\"]==df.query(\"workerId==@elem\")[\"finalPrediction\"])\n",
    "        \n",
    "        workerInfo = infosValid.query(\"workerId==@elem\")\n",
    "\n",
    "        temp[\"selfAcc\"] = [np.mean(workerAnswerPhaseOne[\"selfCorrect\"])]\n",
    "\n",
    "        temp[\"actualAgreementNonCH0\"] = [np.mean(workerAnswerNonCH0[\"agreement\"])]\n",
    "        temp[\"actualAgreement\"] = [np.sum(workerAnswerPhaseOne[\"agreement\"])]\n",
    "        temp[\"actualAgreementPhaseTwo\"] = [np.sum(workerAnswerPhaseTwo[\"agreement\"])]\n",
    "        temp[\"selfPosRatio\"] = [np.mean(workerAnswerPhaseOne[\"selfPrediction\"])]\n",
    "\n",
    "        finalAgree1 = workerAnswerPhaseTwo.query(\"selfPrediction==1\").query(\"agreement==0\").query(\"finalPrediction==0\")\n",
    "        finalAgree2 = workerAnswerPhaseTwo.query(\"selfPrediction==0\").query(\"agreement==0\").query(\"finalPrediction==1\")\n",
    "        finalAgree3 = workerAnswerPhaseTwo.query(\"selfPrediction==1\").query(\"agreement==1\").query(\"finalPrediction==1\")\n",
    "        finalAgree4 = workerAnswerPhaseTwo.query(\"selfPrediction==0\").query(\"agreement==1\").query(\"finalPrediction==0\")\n",
    "        agreementFraction = (len(finalAgree1)+len(finalAgree2)+len(finalAgree3)+len(finalAgree4))/10\n",
    "        agreementFraction = np.mean(workerAnswerPhaseTwo[\"finalAgreement\"])\n",
    "\n",
    "        temp[\"disAgreeSwitch\"] = [len(finalAgree1)+len(finalAgree2)]\n",
    "        temp[\"agreeDisSwitch\"] = [len(finalAgree3)+len(finalAgree4)]\n",
    "        temp[\"phaseTwoActualAgreement\"] = np.mean(workerAnswerPhaseTwo[\"agreement\"])\n",
    "\n",
    "        disagreement = workerAnswerPhaseTwo.query(\"agreement==0\")\n",
    "        switchFromOne = workerAnswerPhaseTwo.query(\"agreement==0\").query(\"selfPrediction==1\").query(\"finalPrediction==0\")\n",
    "        switchFromZero = workerAnswerPhaseTwo.query(\"agreement==0\").query(\"selfPrediction==0\").query(\"finalPrediction==1\")\n",
    "        switchWhenAgreeFromZero = workerAnswerPhaseTwo.query(\"agreement==1\").query(\"selfPrediction==0\").query(\"finalPrediction==1\")\n",
    "        switchWhenAgreeFromOne = workerAnswerPhaseTwo.query(\"agreement==1\").query(\"selfPrediction==1\").query(\"finalPrediction==0\")\n",
    "\n",
    "        temp[\"agreeSwitch\"] = [len(switchWhenAgreeFromZero)+len(switchWhenAgreeFromOne)]\n",
    "        temp[\"disAgreeDisSwitch\"] = [len(\n",
    "            workerAnswerPhaseTwo.query(\"selfPrediction==1\").query(\"agreement==0\").query(\"finalPrediction==1\"))+len(\n",
    "            workerAnswerPhaseTwo.query(\"selfPrediction==0\").query(\"agreement==0\").query(\"finalPrediction==0\"))]\n",
    "\n",
    "        if len(disagreement)!=0:\n",
    "            switchFraction = (len(switchFromOne)+len(switchFromZero))/len(disagreement)\n",
    "        else:\n",
    "            switchFraction = -1\n",
    "\n",
    "        temp[\"ha\"] = len(workerAnswerPhaseOne.query(\"agreement==1\").query(\"conf>0.23\"))\n",
    "        temp[\"hd\"] = len(workerAnswerPhaseOne.query(\"agreement==0\").query(\"conf>0.23\"))\n",
    "        temp[\"la\"] = len(workerAnswerPhaseOne.query(\"agreement==1\").query(\"conf<-0.281\"))\n",
    "        temp[\"ld\"] = len(workerAnswerPhaseOne.query(\"agreement==0\").query(\"conf<-0.281\"))\n",
    "        temp[\"treatment\"] = [int(workerInfo[\"treatment\"])]\n",
    "        temp[\"humanPredictSelfAccuracy\"] = [int(workerInfo[\"humanPredictSelfAccuracy\"])]\n",
    "        temp[\"humanPredictAccuracy\"] = [int(workerInfo[\"humanPredictAccuracy\"])]\n",
    "        temp[\"workerId\"] = [elem]  \n",
    "        temp[\"agreementFraction\"] = [agreementFraction]\n",
    "        temp[\"switchFraction\"] = [switchFraction]\n",
    "        temp[\"faith\"] = [int(workerInfo[\"faith\"])]\n",
    "        temp[\"competence\"] = [int(workerInfo[\"competence\"])]\n",
    "        temp[\"faith\"] = [int(workerInfo[\"faith\"])]\n",
    "        temp[\"understandability\"] = [int(workerInfo[\"understandability\"])]\n",
    "        temp[\"reliability\"] = [int(workerInfo[\"reliability\"])]\n",
    "        res = res.append(temp)\n",
    "    return res\n",
    "\n",
    "res = summarizeData(finalPredictionsValid)\n"
   ]
  },
  {
   "cell_type": "code",
   "execution_count": null,
   "metadata": {},
   "outputs": [],
   "source": [
    "def isHA(treatment):\n",
    "    return 1 if (treatment==0 or treatment==1) else 0\n",
    "def isHD(treatment):\n",
    "    return 1 if (treatment==0 or treatment==2) else 0\n",
    "def actualHA(treatment):\n",
    "    return 1 if (treatment==0 or treatment==1) else 0\n",
    "def actualHD(treatment):\n",
    "    return 1 if (treatment==0 or treatment==2) else 0\n",
    "treatmentDict = {0:\"HAHD\",1:\"HALD\",2:\"LAHD\",3:\"LALD\"}\n",
    "res[\"isHA\"] = res[\"treatment\"].apply(isHA)\n",
    "res[\"isHD\"] = res[\"treatment\"].apply(isHD)\n",
    "res[\"treatmentLabel\"] = res[\"treatment\"].apply(lambda x: treatmentDict[x])"
   ]
  },
  {
   "cell_type": "code",
   "execution_count": null,
   "metadata": {},
   "outputs": [],
   "source": [
    "supplementary_res = pd.DataFrame()\n",
    "for elem in workerIdList:\n",
    "    temp = pd.DataFrame()\n",
    "    workerAnswerAll = finalPredictionsValid.query(\"workerId=='\"+str(elem)+\"'\")\n",
    "    workerAnswerPhaseOne = finalPredictionsValid.query(\"workerId=='\"+str(elem)+\"'\").query(\"taskId<=13\")\n",
    "    workerAnswerPhaseTwo = finalPredictionsValid.query(\"workerId=='\"+str(elem)+\"'\").query(\"taskId>13\")\n",
    "    \n",
    "    phaseOneSelfAccuracy = np.mean(workerAnswerPhaseOne[\"selfCorrect\"])\n",
    "    phaseTwoSelfAccuracy = np.mean(workerAnswerPhaseTwo[\"selfCorrect\"])\n",
    "    \n",
    "    phaseOneFinalAccuracy = np.mean(workerAnswerPhaseOne[\"finalCorrect\"])\n",
    "    phaseTwoFinalAccuracy = np.mean(workerAnswerPhaseTwo[\"finalCorrect\"])\n",
    "    \n",
    "    phaseOneSelfAccuracyMlcorrect = np.mean(workerAnswerPhaseOne.query(\"mlCorrect==True\")[\"selfCorrect\"])\n",
    "    phaseOneSelfAccuracyMlincorrect = np.mean(workerAnswerPhaseOne.query(\"mlCorrect==False\")[\"selfCorrect\"])\n",
    "    phaseTwoSelfAccuracyMlcorrect = np.mean(workerAnswerPhaseTwo.query(\"mlCorrect==True\")[\"selfCorrect\"])\n",
    "    phaseTwoSelfAccuracyMlincorrect = np.mean(workerAnswerPhaseTwo.query(\"mlCorrect==False\")[\"selfCorrect\"])\n",
    "    \n",
    "    phaseOneFinalAccuracyMlcorrect = np.mean(workerAnswerPhaseOne.query(\"mlCorrect==True\")[\"finalCorrect\"])\n",
    "    phaseOneFinalAccuracyMlincorrect = np.mean(workerAnswerPhaseOne.query(\"mlCorrect==False\")[\"finalCorrect\"])\n",
    "    phaseTwoFinalAccuracyMlcorrect = np.mean(workerAnswerPhaseTwo.query(\"mlCorrect==True\")[\"finalCorrect\"])\n",
    "    phaseTwoFinalAccuracyMlincorrect = np.mean(workerAnswerPhaseTwo.query(\"mlCorrect==False\")[\"finalCorrect\"]) \n",
    "    \n",
    "    phaseTwoAgreementFrationMlCorrect = np.mean(workerAnswerPhaseTwo.query(\"mlCorrect==True\")[\"finalAgreement\"])\n",
    "    phaseTwoAgreementFrationMlIncorrect = np.mean(workerAnswerPhaseTwo.query(\"mlCorrect==False\")[\"finalAgreement\"])\n",
    "    \n",
    "    phaseTwoSwitchFractionM1Correct = np.mean((workerAnswerPhaseTwo.query(\"mlCorrect==True\").query(\"agreement==0\")[\"switch\"]))\n",
    "    phaseTwoSwitchFractionM1Incorrect = np.mean((workerAnswerPhaseTwo.query(\"mlCorrect==False\").query(\"agreement==0\")[\"switch\"]))\n",
    "    \n",
    "    allSelfAccuracy = np.mean(workerAnswerAll[\"selfCorrect\"])\n",
    "    allFinalAccuracy = np.mean(workerAnswerAll[\"finalCorrect\"])\n",
    "    allFinalAccuracyMlcorrect = np.mean(workerAnswerAll.query(\"mlCorrect==True\")[\"finalCorrect\"])\n",
    "    allFinalAccuracyMlincorrect = np.mean(workerAnswerAll.query(\"mlCorrect==False\")[\"finalCorrect\"])\n",
    "                                                \n",
    "    temp[\"phaseTwoAgreementFractionMLCorrect\"] = [phaseTwoAgreementFrationMlCorrect]      \n",
    "    temp[\"phaseTwoAgreementFractionMLIncorrect\"] = [phaseTwoAgreementFrationMlIncorrect]   \n",
    "    \n",
    "    temp[\"phaseTwoSwitchFractionMLCorrect\"] = [phaseTwoSwitchFractionM1Correct]      \n",
    "    temp[\"phaseTwoSwitchFractionMLIncorrect\"] = [phaseTwoSwitchFractionM1Incorrect]      \n",
    "    temp[\"phaseTwoActualAgreement\"] = [np.mean(workerAnswerPhaseTwo[\"agreement\"])]\n",
    "    temp[\"phaseTwoActualAgreementMLCorrect\"] = [np.mean(workerAnswerPhaseTwo.query(\"mlCorrect==True\")[\"agreement\"])]\n",
    "    temp[\"phaseTwoActualAgreementMLIncorrect\"] = [np.mean(workerAnswerPhaseTwo.query(\"mlCorrect==False\")[\"agreement\"])]\n",
    "\n",
    "    temp[\"allSelfAccuracy\"] = [allSelfAccuracy]      \n",
    "    temp[\"allFinalAccuracy\"] = [allFinalAccuracy]  \n",
    "    temp[\"allFinalAccuracyMLcorrect\"] = [allFinalAccuracyMlcorrect]  \n",
    "    temp[\"allFinalAccuracyMLincorrect\"] = [allFinalAccuracyMlincorrect]  \n",
    "    temp[\"phaseOneSelfAccuracy\"] = [phaseOneSelfAccuracy]      \n",
    "    temp[\"phaseTwoSelfAccuracy\"] = [phaseTwoSelfAccuracy]      \n",
    "    temp[\"phaseOneFinalAccuracy\"] = [phaseOneFinalAccuracy]      \n",
    "    temp[\"phaseTwoFinalAccuracy\"] = [phaseTwoFinalAccuracy]\n",
    "    temp[\"phaseOneSelfAccuracyMLcorrect\"] = [phaseOneSelfAccuracyMlcorrect]      \n",
    "    temp[\"phaseOneSelfAccuracyMLincorrect\"] = [phaseOneSelfAccuracyMlincorrect]  \n",
    "    temp[\"phaseTwoSelfAccuracyMLcorrect\"] = [phaseTwoSelfAccuracyMlcorrect]      \n",
    "    temp[\"phaseTwoSelfAccuracyMLincorrect\"] = [phaseTwoSelfAccuracyMlincorrect]\n",
    "    temp[\"phaseOneFinalAccuracyMLcorrect\"] = [phaseOneFinalAccuracyMlcorrect]      \n",
    "    temp[\"phaseOneFinalAccuracyMLincorrect\"] = [phaseOneFinalAccuracyMlincorrect]      \n",
    "    temp[\"phaseTwoFinalAccuracyMLcorrect\"] = [phaseTwoFinalAccuracyMlcorrect]      \n",
    "    temp[\"phaseTwoFinalAccuracyMLincorrect\"] = [phaseTwoFinalAccuracyMlincorrect]      \n",
    "    supplementary_res = supplementary_res.append(temp)\n",
    "res[\"accuracyDiff\"] = res[\"humanPredictAccuracy\"]-res[\"humanPredictSelfAccuracy\"]\n",
    "\n",
    "all_res = pd.concat([res,supplementary_res],axis=1)\n",
    "all_res = all_res.loc[:,~all_res.columns.duplicated()]\n",
    "all_res = all_res.replace(np.nan,-1)\n"
   ]
  },
  {
   "cell_type": "code",
   "execution_count": null,
   "metadata": {},
   "outputs": [],
   "source": [
    "for i in range(12):\n",
    "    for k in range(12):\n",
    "        if k+i<=12:\n",
    "            lowerBound = i\n",
    "            upperBound = i+k\n",
    "            temp = res.query(\"actualAgreement>=@lowerBound and actualAgreement<=@upperBound\")\n",
    "            agreementList = [temp.query(\"treatment==@elem\")[\"actualAgreement\"].values for elem in range(4)]\n",
    "            if stats.f_oneway(agreementList[0],agreementList[1],agreementList[2],agreementList[3])[1]>0.05:\n",
    "                if len(temp)>=200:\n",
    "                    print(i,\"  \",i+k,len(temp),stats.f_oneway(agreementList[0],agreementList[1],agreementList[2],agreementList[3])[1])\n",
    "temp = res.query(\"actualAgreement>=0 and actualAgreement<=20\")\n",
    "agreementList = [temp.query(\"treatment==@elem\")[\"actualAgreement\"].values for elem in range(4)]\n",
    "plt.style.use('seaborn-deep')\n",
    "plt.hist([agreementList[0],agreementList[1],agreementList[2],agreementList[3]], label=['hahd', 'hald','lahd','lald'])\n",
    "plt.legend(loc='upper right') \n",
    "print(\"ANOVA:\",stats.f_oneway(agreementList[0],agreementList[1],agreementList[2],agreementList[3]))\n"
   ]
  },
  {
   "cell_type": "code",
   "execution_count": null,
   "metadata": {},
   "outputs": [],
   "source": [
    "all_res.to_csv(\"../data/exp3Res1125.csv\")"
   ]
  },
  {
   "cell_type": "code",
   "execution_count": null,
   "metadata": {},
   "outputs": [],
   "source": [
    "treatmentDict = {0:\"hahd\",1:\"hald\",2:\"lahd\",3:\"lald\"}\n",
    "all_res[\"cagTreatment\"] = all_res[\"treatment\"].apply(lambda x: treatmentDict[x])"
   ]
  },
  {
   "cell_type": "code",
   "execution_count": null,
   "metadata": {},
   "outputs": [],
   "source": [
    "def anova(df,measure):\n",
    "    group0 = df.query(\"treatment==0\")[measure]\n",
    "    group1 = df.query(\"treatment==1\")[measure]\n",
    "    group2 = df.query(\"treatment==2\")[measure]\n",
    "    group3 = df.query(\"treatment==3\")[measure]\n",
    "    moore_lm = ols(measure+' ~ C(idpAgreement)*C(acc)', data=df).fit()\n",
    "    table = sm.stats.anova_lm(moore_lm, typ=2)\n",
    "    print(table)\n",
    "    m_comp = pairwise_tukeyhsd(endog=df[measure], groups=df['treatmentLabel'], alpha=0.05)\n",
    "    print(m_comp)"
   ]
  },
  {
   "cell_type": "code",
   "execution_count": null,
   "metadata": {},
   "outputs": [],
   "source": [
    "def anova(df,measure,lowerBound,upperBound):\n",
    "    print(\"two way ANOVA and Tukey on:\", measure)\n",
    "    df = df[df[measure]!=-1]\n",
    "    group0 = df.query(\"treatment==0\").query(\"actualAgreement>=@lowerBound and actualAgreement<=@upperBound\")\n",
    "    group1 = df.query(\"treatment==1\").query(\"actualAgreement>=@lowerBound and actualAgreement<=@upperBound\")\n",
    "    group2 = df.query(\"treatment==2\").query(\"actualAgreement>=@lowerBound and actualAgreement<=@upperBound\")\n",
    "    group3 = df.query(\"treatment==3\").query(\"actualAgreement>=@lowerBound and actualAgreement<=@upperBound\")\n",
    "    print(np.mean(group0[measure]),np.mean(group1[measure]),np.mean(group2[measure]),np.mean(group3[measure]))\n",
    "    tempRes = pd.concat([group0,group1,group2,group3])\n",
    "    \n",
    "    print(len(group0),len(group1),len(group2),len(group3))\n",
    "    model = ols(measure+' ~ cagTreatment', data=tempRes).fit()\n",
    "    anova_table = sm.stats.anova_lm(model, typ=2)\n",
    "    \n",
    "    print(anova_table)\n",
    "    model = ols(measure+' ~ C(isHA)+C(isHD)+C(isHA):C(isHD)', data=tempRes).fit()\n",
    "#\n",
    "    anova_table = sm.stats.anova_lm(model, typ=2)\n",
    "    print(anova_table)\n",
    "\n",
    "    m_comp = pairwise_tukeyhsd(endog=tempRes[measure], groups=tempRes['cagTreatment'], alpha=0.05)\n",
    "    print(m_comp)\n",
    "\n",
    "    "
   ]
  },
  {
   "cell_type": "code",
   "execution_count": null,
   "metadata": {},
   "outputs": [],
   "source": [
    "len(all_res.query(\"treatment==0\").query(\"actualAgreement>=0 and actualAgreement<=8\"))"
   ]
  },
  {
   "cell_type": "code",
   "execution_count": null,
   "metadata": {},
   "outputs": [],
   "source": [
    "anova(all_res,\"switchFraction\",0,8)"
   ]
  },
  {
   "cell_type": "code",
   "execution_count": null,
   "metadata": {},
   "outputs": [],
   "source": [
    "anova(all_res,\"agreementFraction\",0,8)"
   ]
  },
  {
   "cell_type": "code",
   "execution_count": null,
   "metadata": {},
   "outputs": [],
   "source": [
    "anova(all_res,\"phaseTwoSwitchFractionMLCorrect\",0,8)\n",
    "anova(all_res,\"phaseTwoSwitchFractionMLIncorrect\",0,8)"
   ]
  },
  {
   "cell_type": "code",
   "execution_count": null,
   "metadata": {},
   "outputs": [],
   "source": [
    "# all_res[\"accuracyDiff\"] = all_res[\"humanPredictAccuracy\"]-all_res[\"humanPredictSelfAccuracy\"]\n"
   ]
  },
  {
   "cell_type": "code",
   "execution_count": null,
   "metadata": {},
   "outputs": [],
   "source": [
    "anova(all_res,\"accuracyDiff\",0,8)\n"
   ]
  },
  {
   "cell_type": "code",
   "execution_count": null,
   "metadata": {},
   "outputs": [],
   "source": [
    "anova(all_res,\"phaseTwoAgreementFractionMLCorrect\",0,8)\n",
    "anova(all_res,\"phaseTwoAgreementFractionMLIncorrect\",0,8)"
   ]
  },
  {
   "cell_type": "code",
   "execution_count": null,
   "metadata": {},
   "outputs": [],
   "source": [
    "anova(all_res,\"humanPredictSelfAccuracy\",0,8)"
   ]
  },
  {
   "cell_type": "code",
   "execution_count": null,
   "metadata": {},
   "outputs": [],
   "source": [
    "anova(all_res,\"humanPredictAccuracy\",0,8)"
   ]
  },
  {
   "cell_type": "code",
   "execution_count": null,
   "metadata": {},
   "outputs": [],
   "source": [
    "anova(all_res,\"competence\",0,8)\n",
    "anova(all_res,\"understandability\",0,8)\n",
    "anova(all_res,\"trustSurvey\",0,8)\n"
   ]
  },
  {
   "cell_type": "code",
   "execution_count": null,
   "metadata": {},
   "outputs": [],
   "source": [
    "anova(all_res,\"reliability\",0,8)\n",
    "anova(all_res,\"faith\",0,8)"
   ]
  },
  {
   "cell_type": "code",
   "execution_count": null,
   "metadata": {},
   "outputs": [],
   "source": [
    "all_res[\"faith\"].mean()"
   ]
  },
  {
   "cell_type": "code",
   "execution_count": null,
   "metadata": {},
   "outputs": [],
   "source": []
  }
 ],
 "metadata": {
  "kernelspec": {
   "display_name": "Python 3",
   "language": "python",
   "name": "python3"
  },
  "language_info": {
   "codemirror_mode": {
    "name": "ipython",
    "version": 3
   },
   "file_extension": ".py",
   "mimetype": "text/x-python",
   "name": "python",
   "nbconvert_exporter": "python",
   "pygments_lexer": "ipython3",
   "version": "3.8.3"
  }
 },
 "nbformat": 4,
 "nbformat_minor": 4
}
