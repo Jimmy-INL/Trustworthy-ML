{
 "cells": [
  {
   "cell_type": "code",
   "execution_count": 2,
   "metadata": {},
   "outputs": [],
   "source": [
    "import numpy as np\n",
    "import pandas as pd\n",
    "import json\n",
    "import warnings\n",
    "warnings.filterwarnings('ignore')\n",
    "import matplotlib.pyplot as plt\n",
    "import datetime\n",
    "np.random_state=42\n",
    "from scipy import stats\n",
    "import statsmodels.api as sm\n",
    "warnings.filterwarnings('ignore')\n",
    "from statsmodels.stats import power\n",
    "pd.set_option('display.max_colwidth', -1)\n",
    "pd.set_option('display.max_rows', 200)\n",
    "pd.set_option('display.max_columns', 200)\n",
    "import statsmodels.api as sm\n",
    "from statsmodels.formula.api import ols\n",
    "from sklearn.linear_model import LinearRegression\n",
    "from scipy.stats import pearsonr\n",
    "from statsmodels.stats.multicomp import pairwise_tukeyhsd\n"
   ]
  },
  {
   "cell_type": "code",
   "execution_count": 4,
   "metadata": {},
   "outputs": [],
   "source": [
    "dating_data = pd.read_csv(\"datingData/dating-full.csv\")"
   ]
  },
  {
   "cell_type": "code",
   "execution_count": 3,
   "metadata": {},
   "outputs": [],
   "source": [
    "finalPredictionsRaw = pd.read_csv(\"../../mltrust_experiment/finalPredictions0512final.csv\",header=None)\n",
    "infosRaw = pd.read_csv(\"../../mltrust_experiment/infosExp0512final.csv\",header=None)\n",
    "surveys = pd.read_csv(\"../../survey0512clean.csv\",header=None)"
   ]
  },
  {
   "cell_type": "code",
   "execution_count": 4,
   "metadata": {},
   "outputs": [],
   "source": [
    "def remove_punc(string,num):\n",
    "    res = \"\"\n",
    "    for elem in string:\n",
    "        if elem is not '\"' and elem!=\":\" and elem!=\"{\" and elem!=\"}\":\n",
    "            res+=elem\n",
    "    return res[num:]"
   ]
  },
  {
   "cell_type": "code",
   "execution_count": 5,
   "metadata": {},
   "outputs": [],
   "source": [
    "infosColumns = [\"_id\",\"workerId\",\"assignmentId\",\n",
    "                \"hitId\",\"humanPredictAccuracy\",\"humanPredictSelfAccuracy\",\n",
    "                \"reliability\",\"faith\",\"competence\",\"understandability\",\"treatment\",\"time\"]\n",
    "finalPredictionsColumns = [\"_id\",\"workerId\",\"assignmentId\",\"hitId\",\"taskId\",\n",
    "                          \"profile\",\"globalId\",\"decision\",\"selfPrediction\",\"finalPrediction\",\n",
    "                           \"selfCorrect\",\"finalCorrect\",\"attentionCheck\",\"selfAttentionCheck\",\n",
    "                          \"finalAttentionCheck\",\"agreement\",\"mlPrediction\",\"treatment\",\"time\"]\n",
    "surveysColumns = [\"_id\",\"workerId\",\"assignmentId\",\"hitId\",\"idpAgreement\",\"trustSurvey\"]\n",
    "finishedWorkersColumns = [\"_id\",\"workerId\",\"assignmentId\",\"hitId\",\"bonus_correct\",\"time\"]"
   ]
  },
  {
   "cell_type": "code",
   "execution_count": 6,
   "metadata": {},
   "outputs": [],
   "source": [
    "finishedWorkersColumns = [\"_id\",\"workerId\",\"assignmentId\",\"hitId\",\"bonus_correct\",\"time\"]"
   ]
  },
  {
   "cell_type": "code",
   "execution_count": 7,
   "metadata": {},
   "outputs": [
    {
     "name": "stdout",
     "output_type": "stream",
     "text": [
      "length of df: 922\n",
      "length of df: 21734\n"
     ]
    }
   ],
   "source": [
    "def preprocess(dfRaw,columns):\n",
    "    dfRaw.replace('', np.nan, inplace=True)\n",
    "    res = dfRaw.dropna().drop_duplicates()\n",
    "    \n",
    "    print(\"length of df:\",len(res))\n",
    "    res.columns = columns\n",
    "    for elem in columns:\n",
    "        res[elem] = res[elem].apply(remove_punc,args=([len(elem)]))\n",
    "    intColumns = []\n",
    "    for elem in res.columns:\n",
    "        if res[0:1][elem].loc[0].isdigit():\n",
    "            intColumns.append(elem)\n",
    "    for elem in intColumns:\n",
    "        res[elem] = res[elem].apply(lambda x: int(x))\n",
    "    return res\n",
    "infos = preprocess(infosRaw,infosColumns)\n",
    "finalPredictions = preprocess(finalPredictionsRaw,finalPredictionsColumns)"
   ]
  },
  {
   "cell_type": "code",
   "execution_count": 8,
   "metadata": {},
   "outputs": [
    {
     "name": "stdout",
     "output_type": "stream",
     "text": [
      "valid workers:  402\n",
      "worker working on multi tasks: 73\n"
     ]
    }
   ],
   "source": [
    "workerIdListRaw = np.array(list(set(finalPredictions[\"workerId\"])))\n",
    "workerIdList = []\n",
    "workerIdListOther = []\n",
    "unknownErrors = ['A3RDH0U2H6JCBC']\n",
    "exceptionWorkers = [\"A1T208Y507O4RS\"]\n",
    "treatmentDict = {}\n",
    "allOnePredictors = []\n",
    "for elem in workerIdListRaw:\n",
    "    if elem not in unknownErrors:\n",
    "        allTasks = len(finalPredictions.query(\"workerId=='\"+str(elem)+\"'\")[\"taskId\"])==23\n",
    "        distinctTasks = len(set(finalPredictions.query(\"workerId=='\"+str(elem)+\"'\")[\"taskId\"]))==23\n",
    "        attentionLength = len(finalPredictions.query(\n",
    "                    \"workerId=='\"+str(elem)+\"'\").query(\n",
    "                    \"attentionCheck==1\").query(\n",
    "                    \"selfAttentionCheck==1\").query(\"finalAttentionCheck==1\"))\n",
    "        \n",
    "        attentionCorrect = attentionLength==1\n",
    "        if allTasks and distinctTasks and attentionCorrect:\n",
    "            allTasksSelf = finalPredictions.query(\"workerId=='\"+str(elem)+\"'\")[\"selfPrediction\"]\n",
    "            allTasksFinal = finalPredictions.query(\"workerId=='\"+str(elem)+\"'\")[\"finalPrediction\"]\n",
    "            if np.sum(finalPredictions.query(\"attentionCheck!=1\").query(\"workerId==@elem\")[\"selfPrediction\"])!=22:\n",
    "#                 if np.sum(finalPredictions.query(\"attentionCheck!=1\").query(\"workerId==@elem\")[\"finalPrediction\"])!=22:\n",
    "                workerIdList.append(elem)\n",
    "                treatmentDict[elem] = finalPredictions.query(\"workerId=='\"+str(elem)+\"'\")[\"treatment\"].values[0]\n",
    "\n",
    "#             else:\n",
    "        elif attentionCorrect:\n",
    "                workerIdListOther.append(elem)\n",
    "print(\"valid workers: \",len(workerIdList))\n",
    "print(\"worker working on multi tasks:\",len(workerIdListOther))"
   ]
  },
  {
   "cell_type": "code",
   "execution_count": 9,
   "metadata": {},
   "outputs": [],
   "source": [
    "import csv\n",
    "surveys = []\n",
    "with open(\"../../surveys0512final.csv\", newline='') as csvfile:\n",
    "    spamreader = csv.reader(csvfile, delimiter=' ', quotechar='|')\n",
    "    for row in spamreader:\n",
    "        surveys.append(row)\n",
    "surveys_csv = []\n",
    "for i in range(len(surveys)):\n",
    "    if len(surveys[i])>=1:\n",
    "        temp = \"\"\n",
    "        for elem in surveys[i]:\n",
    "            temp+= (\" \" + elem)\n",
    "        surveys[i] = temp[2:-1]\n",
    "        if temp[2:-1].split(\",\")[-3:][1]!='\"trustFactors\":\"\"':\n",
    "            surveys_csv.append(temp[2:-1].split(\",\"))\n",
    "for i in range(len(surveys_csv)):\n",
    "    if surveys_csv[i][-3:][1]=='\"trustFactors\":\"\"':\n",
    "        print(\"cao\")"
   ]
  },
  {
   "cell_type": "code",
   "execution_count": 10,
   "metadata": {},
   "outputs": [],
   "source": [
    "import re\n",
    "\n",
    "df = pd.DataFrame(columns=[\"workerId\",\"trustSurvey\",\"trustFactor\"])\n",
    "for elem in surveys:\n",
    "    trustFactorStart = elem.find(\"trustFactors\")+len(\"trustFactors\")+2\n",
    "    trustFactorEnd = elem.find(\"trustSurvey\")\n",
    "    trustSurveryStart = elem.find(\"trustSurvey\")+14\n",
    "    trustSurveryEnd = elem.find(\"trustSurvey\")+15\n",
    "    workerIdStart = elem.find(\"workerId\")+11\n",
    "    workerIdEnd = elem.find(\"assignmentId\")-3\n",
    "    trustFactor = elem[trustFactorStart:trustFactorEnd]\n",
    "    trustSurvey = elem[trustSurveryStart:trustSurveryEnd]\n",
    "    workerId = elem[workerIdStart:workerIdEnd]\n",
    "    df = df.append({\"workerId\":workerId,\"trustFactor\":trustFactor,\"trustSurvey\":trustSurvey},ignore_index=True)\n",
    "def remove_punc(string):\n",
    "    res = \"\"\n",
    "    for elem in string:\n",
    "        if elem is not '\"' and elem!=\":\" and elem!=\"{\" and elem!=\"}\":\n",
    "            res+=elem\n",
    "    return res\n",
    "df[\"trustFactor\"] = df[\"trustFactor\"].apply(remove_punc)\n",
    "df.to_csv(\"../../survey0512clean.csv\")\n",
    "validSurveys = df[df[\"workerId\"].isin(workerIdList)]"
   ]
  },
  {
   "cell_type": "code",
   "execution_count": 11,
   "metadata": {},
   "outputs": [],
   "source": [
    "all_instances = pd.read_csv(\"../all_instances.csv\")"
   ]
  },
  {
   "cell_type": "code",
   "execution_count": 12,
   "metadata": {},
   "outputs": [],
   "source": [
    "finalPredictionsValid = finalPredictions[finalPredictions[\"workerId\"].isin(workerIdList)]\n",
    "finalPredictionsValid = finalPredictionsValid.query(\"attentionCheck!=1\")\n",
    "temp = pd.DataFrame()\n",
    "for elem in workerIdList:\n",
    "    treat = treatmentDict[elem]\n",
    "    temp = pd.concat([temp,finalPredictionsValid.query(\"workerId==@elem\").query(\"treatment==@treat\")])\n",
    "finalPredictionsValid = temp  "
   ]
  },
  {
   "cell_type": "code",
   "execution_count": 13,
   "metadata": {},
   "outputs": [],
   "source": [
    "\n",
    "tempAgreement = np.array(finalPredictionsValid[\"agreement\"])\n",
    "tempSelfPrediction = np.array(finalPredictionsValid[\"selfPrediction\"])\n",
    "tempPrediction = [tempSelfPrediction[i] if tempAgreement[i]==1 else (1 if tempSelfPrediction[i]==0 else 0) for i in range(len(finalPredictionsValid))]\n",
    "finalPredictionsValid[\"prediction\"] = tempPrediction\n",
    "finalPredictionsValid[\"finalAgreement\"] = tempPrediction==finalPredictionsValid[\"finalPrediction\"]"
   ]
  },
  {
   "cell_type": "code",
   "execution_count": 14,
   "metadata": {},
   "outputs": [],
   "source": [
    "validsurveys = validSurveys[validSurveys[\"workerId\"].isin(finalPredictionsValid[\"workerId\"])]\n",
    "temp = pd.DataFrame()\n",
    "for elem in workerIdList:\n",
    "    treat = treatmentDict[elem]\n",
    "    temp = pd.concat([temp,validsurveys.query(\"workerId==@elem\")])\n",
    "validsurveys = temp\n",
    "validsurveys[\"trustSurvey\"] = validsurveys[\"trustSurvey\"].apply(lambda x:int(x))"
   ]
  },
  {
   "cell_type": "code",
   "execution_count": 15,
   "metadata": {},
   "outputs": [],
   "source": [
    "validInfos = infos[infos[\"workerId\"].isin(finalPredictionsValid[\"workerId\"])]\n",
    "temp = pd.DataFrame()\n",
    "for elem in workerIdList:\n",
    "    treat = treatmentDict[elem]\n",
    "    temp = pd.concat([temp,validInfos.query(\"workerId==@elem\").query(\"treatment==@treat\")])\n",
    "validInfos = temp"
   ]
  },
  {
   "cell_type": "code",
   "execution_count": 16,
   "metadata": {},
   "outputs": [],
   "source": [
    "confAccList = pd.DataFrame()\n",
    "globalIdList = list(finalPredictionsValid[\"globalId\"])\n",
    "for elem in globalIdList:\n",
    "    confAccList = confAccList.append(all_instances[all_instances[\"Unnamed: 0\"]==elem][[\"confidence\",\"accuracy\"]])"
   ]
  },
  {
   "cell_type": "code",
   "execution_count": 17,
   "metadata": {},
   "outputs": [],
   "source": [
    "finalPredictionsValid = finalPredictions[finalPredictions[\"workerId\"].isin(workerIdList)]\n",
    "finalPredictionsValid = finalPredictionsValid.query(\"attentionCheck!=1\")\n",
    "tempAgreement = np.array(finalPredictionsValid[\"agreement\"])\n",
    "tempSelfPrediction = np.array(finalPredictionsValid[\"selfPrediction\"])\n",
    "tempPrediction = [tempSelfPrediction[i] if tempAgreement[i]==1 else (1 if tempSelfPrediction[i]==0 else 0) for i in range(len(finalPredictionsValid))]\n",
    "finalPredictionsValid[\"prediction\"] = tempPrediction\n",
    "finalPredictionsValid[\"finalAgreement\"] = tempPrediction==finalPredictionsValid[\"finalPrediction\"]\n",
    "\n",
    "decision_dic = {elem: dating_data.loc[elem][\"decision\"] for elem in dating_data.index.values}\n",
    "finalPredictionsValid[\"decision\"] = finalPredictionsValid[\"globalId\"].apply(lambda x: decision_dic[x]).values\n",
    "finalPredictionsValid.index = np.arange(len(finalPredictionsValid))\n",
    "finalPredictionsValid[\"mlCorrect\"] = [finalPredictionsValid.loc[i][\"prediction\"]==finalPredictionsValid.loc[i][\"decision\"] for i in range(len(finalPredictionsValid))]\n",
    "finalPredictionsValid[\"selfCorrect\"] = [finalPredictionsValid.loc[i][\"selfPrediction\"]==finalPredictionsValid.loc[i][\"decision\"] for i in range(len(finalPredictionsValid))]\n",
    "finalPredictionsValid[\"finalCorrect\"] = [finalPredictionsValid.loc[i][\"finalPrediction\"]==finalPredictionsValid.loc[i][\"decision\"] for i in range(len(finalPredictionsValid))]\n",
    "finalPredictionsValid[\"switch\"] = [(finalPredictionsValid.loc[i][\"finalPrediction\"]!=finalPredictionsValid.loc[i][\"selfPrediction\"] and finalPredictionsValid.loc[i][\"selfPrediction\"]!=finalPredictionsValid.loc[i][\"prediction\"]) for i in range(len(finalPredictionsValid))]\n",
    "\n",
    "finalPredictionsValid = finalPredictionsValid.drop([\"attentionCheck\",\"selfAttentionCheck\",\"finalAttentionCheck\",\"hitId\",\"_id\",\"assignmentId\"],axis=1)\n",
    "workerIdSet = {workerIdList[i]:i for i in range(len(workerIdList))}\n",
    "finalPredictionsValid[\"workerId\"] = finalPredictionsValid[\"workerId\"].apply(lambda x:workerIdSet[x])\n"
   ]
  },
  {
   "cell_type": "code",
   "execution_count": 18,
   "metadata": {},
   "outputs": [],
   "source": [
    "infosValid = infos[infos[\"workerId\"].isin(workerIdList)]\n",
    "surveysValid = validSurveys[validSurveys[\"workerId\"].isin(workerIdList)]\n",
    "infosValid[\"surveyTrust\"] = infosValid[\"workerId\"].apply(lambda x:surveysValid.query(\"workerId==@x\")[\"trustSurvey\"].values[0])"
   ]
  },
  {
   "cell_type": "code",
   "execution_count": 19,
   "metadata": {},
   "outputs": [],
   "source": [
    "infosValid = infosValid.drop([\"_id\",\"assignmentId\",\"hitId\"],axis=1)\n",
    "infosValid[\"workerId\"] = infosValid[\"workerId\"].apply(lambda x:workerIdSet[x])"
   ]
  },
  {
   "cell_type": "code",
   "execution_count": 20,
   "metadata": {},
   "outputs": [],
   "source": [
    "infosValid.to_csv(\"expThreeInfosValid1125.csv\")\n",
    "finalPredictionsValid.to_csv(\"expThreeFinalPredictionsValid1125.csv\")"
   ]
  },
  {
   "cell_type": "code",
   "execution_count": null,
   "metadata": {},
   "outputs": [],
   "source": []
  },
  {
   "cell_type": "code",
   "execution_count": null,
   "metadata": {},
   "outputs": [],
   "source": []
  }
 ],
 "metadata": {
  "kernelspec": {
   "display_name": "Python 3",
   "language": "python",
   "name": "python3"
  },
  "language_info": {
   "codemirror_mode": {
    "name": "ipython",
    "version": 3
   },
   "file_extension": ".py",
   "mimetype": "text/x-python",
   "name": "python",
   "nbconvert_exporter": "python",
   "pygments_lexer": "ipython3",
   "version": "3.8.3"
  }
 },
 "nbformat": 4,
 "nbformat_minor": 4
}
