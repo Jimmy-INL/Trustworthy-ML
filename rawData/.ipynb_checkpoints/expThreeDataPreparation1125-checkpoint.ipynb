{
 "cells": [
  {
   "cell_type": "code",
   "execution_count": 4,
   "metadata": {},
   "outputs": [],
   "source": [
    "import numpy as np\n",
    "import pandas as pd\n",
    "import json\n",
    "import warnings\n",
    "warnings.filterwarnings('ignore')\n",
    "import matplotlib.pyplot as plt\n",
    "import datetime\n",
    "np.random_state=42\n",
    "from scipy import stats\n",
    "import statsmodels.api as sm\n",
    "warnings.filterwarnings('ignore')\n",
    "from statsmodels.stats import power\n",
    "pd.set_option('display.max_colwidth', -1)\n",
    "pd.set_option('display.max_rows', 200)\n",
    "pd.set_option('display.max_columns', 200)\n",
    "import statsmodels.api as sm\n",
    "from statsmodels.formula.api import ols\n",
    "from sklearn.linear_model import LinearRegression\n",
    "from scipy.stats import pearsonr\n",
    "from statsmodels.stats.multicomp import pairwise_tukeyhsd\n"
   ]
  },
  {
   "cell_type": "code",
   "execution_count": 5,
   "metadata": {},
   "outputs": [],
   "source": [
    "dating_data = pd.read_csv(\"datingData/dating-full.csv\")"
   ]
  },
  {
   "cell_type": "code",
   "execution_count": 6,
   "metadata": {},
   "outputs": [
    {
     "ename": "FileNotFoundError",
     "evalue": "[Errno 2] File ../../mltrust_experiment/infosExp0512final.csv does not exist: '../../mltrust_experiment/infosExp0512final.csv'",
     "output_type": "error",
     "traceback": [
      "\u001b[0;31m---------------------------------------------------------------------------\u001b[0m",
      "\u001b[0;31mFileNotFoundError\u001b[0m                         Traceback (most recent call last)",
      "\u001b[0;32m<ipython-input-6-b3af3a903ab5>\u001b[0m in \u001b[0;36m<module>\u001b[0;34m\u001b[0m\n\u001b[1;32m      1\u001b[0m \u001b[0mfinalPredictionsRaw\u001b[0m \u001b[0;34m=\u001b[0m \u001b[0mpd\u001b[0m\u001b[0;34m.\u001b[0m\u001b[0mread_csv\u001b[0m\u001b[0;34m(\u001b[0m\u001b[0;34m\"exp3/finalPredictions0512final.csv\"\u001b[0m\u001b[0;34m,\u001b[0m\u001b[0mheader\u001b[0m\u001b[0;34m=\u001b[0m\u001b[0;32mNone\u001b[0m\u001b[0;34m)\u001b[0m\u001b[0;34m\u001b[0m\u001b[0;34m\u001b[0m\u001b[0m\n\u001b[0;32m----> 2\u001b[0;31m \u001b[0minfosRaw\u001b[0m \u001b[0;34m=\u001b[0m \u001b[0mpd\u001b[0m\u001b[0;34m.\u001b[0m\u001b[0mread_csv\u001b[0m\u001b[0;34m(\u001b[0m\u001b[0;34m\"../../mltrust_experiment/infosExp0512final.csv\"\u001b[0m\u001b[0;34m,\u001b[0m\u001b[0mheader\u001b[0m\u001b[0;34m=\u001b[0m\u001b[0;32mNone\u001b[0m\u001b[0;34m)\u001b[0m\u001b[0;34m\u001b[0m\u001b[0;34m\u001b[0m\u001b[0m\n\u001b[0m\u001b[1;32m      3\u001b[0m \u001b[0msurveys\u001b[0m \u001b[0;34m=\u001b[0m \u001b[0mpd\u001b[0m\u001b[0;34m.\u001b[0m\u001b[0mread_csv\u001b[0m\u001b[0;34m(\u001b[0m\u001b[0;34m\"../../survey0512clean.csv\"\u001b[0m\u001b[0;34m,\u001b[0m\u001b[0mheader\u001b[0m\u001b[0;34m=\u001b[0m\u001b[0;32mNone\u001b[0m\u001b[0;34m)\u001b[0m\u001b[0;34m\u001b[0m\u001b[0;34m\u001b[0m\u001b[0m\n",
      "\u001b[0;32m~/opt/anaconda3/lib/python3.8/site-packages/pandas/io/parsers.py\u001b[0m in \u001b[0;36mparser_f\u001b[0;34m(filepath_or_buffer, sep, delimiter, header, names, index_col, usecols, squeeze, prefix, mangle_dupe_cols, dtype, engine, converters, true_values, false_values, skipinitialspace, skiprows, skipfooter, nrows, na_values, keep_default_na, na_filter, verbose, skip_blank_lines, parse_dates, infer_datetime_format, keep_date_col, date_parser, dayfirst, cache_dates, iterator, chunksize, compression, thousands, decimal, lineterminator, quotechar, quoting, doublequote, escapechar, comment, encoding, dialect, error_bad_lines, warn_bad_lines, delim_whitespace, low_memory, memory_map, float_precision)\u001b[0m\n\u001b[1;32m    674\u001b[0m         )\n\u001b[1;32m    675\u001b[0m \u001b[0;34m\u001b[0m\u001b[0m\n\u001b[0;32m--> 676\u001b[0;31m         \u001b[0;32mreturn\u001b[0m \u001b[0m_read\u001b[0m\u001b[0;34m(\u001b[0m\u001b[0mfilepath_or_buffer\u001b[0m\u001b[0;34m,\u001b[0m \u001b[0mkwds\u001b[0m\u001b[0;34m)\u001b[0m\u001b[0;34m\u001b[0m\u001b[0;34m\u001b[0m\u001b[0m\n\u001b[0m\u001b[1;32m    677\u001b[0m \u001b[0;34m\u001b[0m\u001b[0m\n\u001b[1;32m    678\u001b[0m     \u001b[0mparser_f\u001b[0m\u001b[0;34m.\u001b[0m\u001b[0m__name__\u001b[0m \u001b[0;34m=\u001b[0m \u001b[0mname\u001b[0m\u001b[0;34m\u001b[0m\u001b[0;34m\u001b[0m\u001b[0m\n",
      "\u001b[0;32m~/opt/anaconda3/lib/python3.8/site-packages/pandas/io/parsers.py\u001b[0m in \u001b[0;36m_read\u001b[0;34m(filepath_or_buffer, kwds)\u001b[0m\n\u001b[1;32m    446\u001b[0m \u001b[0;34m\u001b[0m\u001b[0m\n\u001b[1;32m    447\u001b[0m     \u001b[0;31m# Create the parser.\u001b[0m\u001b[0;34m\u001b[0m\u001b[0;34m\u001b[0m\u001b[0;34m\u001b[0m\u001b[0m\n\u001b[0;32m--> 448\u001b[0;31m     \u001b[0mparser\u001b[0m \u001b[0;34m=\u001b[0m \u001b[0mTextFileReader\u001b[0m\u001b[0;34m(\u001b[0m\u001b[0mfp_or_buf\u001b[0m\u001b[0;34m,\u001b[0m \u001b[0;34m**\u001b[0m\u001b[0mkwds\u001b[0m\u001b[0;34m)\u001b[0m\u001b[0;34m\u001b[0m\u001b[0;34m\u001b[0m\u001b[0m\n\u001b[0m\u001b[1;32m    449\u001b[0m \u001b[0;34m\u001b[0m\u001b[0m\n\u001b[1;32m    450\u001b[0m     \u001b[0;32mif\u001b[0m \u001b[0mchunksize\u001b[0m \u001b[0;32mor\u001b[0m \u001b[0miterator\u001b[0m\u001b[0;34m:\u001b[0m\u001b[0;34m\u001b[0m\u001b[0;34m\u001b[0m\u001b[0m\n",
      "\u001b[0;32m~/opt/anaconda3/lib/python3.8/site-packages/pandas/io/parsers.py\u001b[0m in \u001b[0;36m__init__\u001b[0;34m(self, f, engine, **kwds)\u001b[0m\n\u001b[1;32m    878\u001b[0m             \u001b[0mself\u001b[0m\u001b[0;34m.\u001b[0m\u001b[0moptions\u001b[0m\u001b[0;34m[\u001b[0m\u001b[0;34m\"has_index_names\"\u001b[0m\u001b[0;34m]\u001b[0m \u001b[0;34m=\u001b[0m \u001b[0mkwds\u001b[0m\u001b[0;34m[\u001b[0m\u001b[0;34m\"has_index_names\"\u001b[0m\u001b[0;34m]\u001b[0m\u001b[0;34m\u001b[0m\u001b[0;34m\u001b[0m\u001b[0m\n\u001b[1;32m    879\u001b[0m \u001b[0;34m\u001b[0m\u001b[0m\n\u001b[0;32m--> 880\u001b[0;31m         \u001b[0mself\u001b[0m\u001b[0;34m.\u001b[0m\u001b[0m_make_engine\u001b[0m\u001b[0;34m(\u001b[0m\u001b[0mself\u001b[0m\u001b[0;34m.\u001b[0m\u001b[0mengine\u001b[0m\u001b[0;34m)\u001b[0m\u001b[0;34m\u001b[0m\u001b[0;34m\u001b[0m\u001b[0m\n\u001b[0m\u001b[1;32m    881\u001b[0m \u001b[0;34m\u001b[0m\u001b[0m\n\u001b[1;32m    882\u001b[0m     \u001b[0;32mdef\u001b[0m \u001b[0mclose\u001b[0m\u001b[0;34m(\u001b[0m\u001b[0mself\u001b[0m\u001b[0;34m)\u001b[0m\u001b[0;34m:\u001b[0m\u001b[0;34m\u001b[0m\u001b[0;34m\u001b[0m\u001b[0m\n",
      "\u001b[0;32m~/opt/anaconda3/lib/python3.8/site-packages/pandas/io/parsers.py\u001b[0m in \u001b[0;36m_make_engine\u001b[0;34m(self, engine)\u001b[0m\n\u001b[1;32m   1112\u001b[0m     \u001b[0;32mdef\u001b[0m \u001b[0m_make_engine\u001b[0m\u001b[0;34m(\u001b[0m\u001b[0mself\u001b[0m\u001b[0;34m,\u001b[0m \u001b[0mengine\u001b[0m\u001b[0;34m=\u001b[0m\u001b[0;34m\"c\"\u001b[0m\u001b[0;34m)\u001b[0m\u001b[0;34m:\u001b[0m\u001b[0;34m\u001b[0m\u001b[0;34m\u001b[0m\u001b[0m\n\u001b[1;32m   1113\u001b[0m         \u001b[0;32mif\u001b[0m \u001b[0mengine\u001b[0m \u001b[0;34m==\u001b[0m \u001b[0;34m\"c\"\u001b[0m\u001b[0;34m:\u001b[0m\u001b[0;34m\u001b[0m\u001b[0;34m\u001b[0m\u001b[0m\n\u001b[0;32m-> 1114\u001b[0;31m             \u001b[0mself\u001b[0m\u001b[0;34m.\u001b[0m\u001b[0m_engine\u001b[0m \u001b[0;34m=\u001b[0m \u001b[0mCParserWrapper\u001b[0m\u001b[0;34m(\u001b[0m\u001b[0mself\u001b[0m\u001b[0;34m.\u001b[0m\u001b[0mf\u001b[0m\u001b[0;34m,\u001b[0m \u001b[0;34m**\u001b[0m\u001b[0mself\u001b[0m\u001b[0;34m.\u001b[0m\u001b[0moptions\u001b[0m\u001b[0;34m)\u001b[0m\u001b[0;34m\u001b[0m\u001b[0;34m\u001b[0m\u001b[0m\n\u001b[0m\u001b[1;32m   1115\u001b[0m         \u001b[0;32melse\u001b[0m\u001b[0;34m:\u001b[0m\u001b[0;34m\u001b[0m\u001b[0;34m\u001b[0m\u001b[0m\n\u001b[1;32m   1116\u001b[0m             \u001b[0;32mif\u001b[0m \u001b[0mengine\u001b[0m \u001b[0;34m==\u001b[0m \u001b[0;34m\"python\"\u001b[0m\u001b[0;34m:\u001b[0m\u001b[0;34m\u001b[0m\u001b[0;34m\u001b[0m\u001b[0m\n",
      "\u001b[0;32m~/opt/anaconda3/lib/python3.8/site-packages/pandas/io/parsers.py\u001b[0m in \u001b[0;36m__init__\u001b[0;34m(self, src, **kwds)\u001b[0m\n\u001b[1;32m   1889\u001b[0m         \u001b[0mkwds\u001b[0m\u001b[0;34m[\u001b[0m\u001b[0;34m\"usecols\"\u001b[0m\u001b[0;34m]\u001b[0m \u001b[0;34m=\u001b[0m \u001b[0mself\u001b[0m\u001b[0;34m.\u001b[0m\u001b[0musecols\u001b[0m\u001b[0;34m\u001b[0m\u001b[0;34m\u001b[0m\u001b[0m\n\u001b[1;32m   1890\u001b[0m \u001b[0;34m\u001b[0m\u001b[0m\n\u001b[0;32m-> 1891\u001b[0;31m         \u001b[0mself\u001b[0m\u001b[0;34m.\u001b[0m\u001b[0m_reader\u001b[0m \u001b[0;34m=\u001b[0m \u001b[0mparsers\u001b[0m\u001b[0;34m.\u001b[0m\u001b[0mTextReader\u001b[0m\u001b[0;34m(\u001b[0m\u001b[0msrc\u001b[0m\u001b[0;34m,\u001b[0m \u001b[0;34m**\u001b[0m\u001b[0mkwds\u001b[0m\u001b[0;34m)\u001b[0m\u001b[0;34m\u001b[0m\u001b[0;34m\u001b[0m\u001b[0m\n\u001b[0m\u001b[1;32m   1892\u001b[0m         \u001b[0mself\u001b[0m\u001b[0;34m.\u001b[0m\u001b[0munnamed_cols\u001b[0m \u001b[0;34m=\u001b[0m \u001b[0mself\u001b[0m\u001b[0;34m.\u001b[0m\u001b[0m_reader\u001b[0m\u001b[0;34m.\u001b[0m\u001b[0munnamed_cols\u001b[0m\u001b[0;34m\u001b[0m\u001b[0;34m\u001b[0m\u001b[0m\n\u001b[1;32m   1893\u001b[0m \u001b[0;34m\u001b[0m\u001b[0m\n",
      "\u001b[0;32mpandas/_libs/parsers.pyx\u001b[0m in \u001b[0;36mpandas._libs.parsers.TextReader.__cinit__\u001b[0;34m()\u001b[0m\n",
      "\u001b[0;32mpandas/_libs/parsers.pyx\u001b[0m in \u001b[0;36mpandas._libs.parsers.TextReader._setup_parser_source\u001b[0;34m()\u001b[0m\n",
      "\u001b[0;31mFileNotFoundError\u001b[0m: [Errno 2] File ../../mltrust_experiment/infosExp0512final.csv does not exist: '../../mltrust_experiment/infosExp0512final.csv'"
     ]
    }
   ],
   "source": [
    "finalPredictionsRaw = pd.read_csv(\"exp3/finalPredictions0512final.csv\",header=None)\n",
    "infosRaw = pd.read_csv(\"../..//infosExp0512final.csv\",header=None)\n",
    "surveys = pd.read_csv(\"../../survey0512clean.csv\",header=None)"
   ]
  },
  {
   "cell_type": "code",
   "execution_count": 4,
   "metadata": {},
   "outputs": [],
   "source": [
    "def remove_punc(string,num):\n",
    "    res = \"\"\n",
    "    for elem in string:\n",
    "        if elem is not '\"' and elem!=\":\" and elem!=\"{\" and elem!=\"}\":\n",
    "            res+=elem\n",
    "    return res[num:]"
   ]
  },
  {
   "cell_type": "code",
   "execution_count": 5,
   "metadata": {},
   "outputs": [],
   "source": [
    "infosColumns = [\"_id\",\"workerId\",\"assignmentId\",\n",
    "                \"hitId\",\"humanPredictAccuracy\",\"humanPredictSelfAccuracy\",\n",
    "                \"reliability\",\"faith\",\"competence\",\"understandability\",\"treatment\",\"time\"]\n",
    "finalPredictionsColumns = [\"_id\",\"workerId\",\"assignmentId\",\"hitId\",\"taskId\",\n",
    "                          \"profile\",\"globalId\",\"decision\",\"selfPrediction\",\"finalPrediction\",\n",
    "                           \"selfCorrect\",\"finalCorrect\",\"attentionCheck\",\"selfAttentionCheck\",\n",
    "                          \"finalAttentionCheck\",\"agreement\",\"mlPrediction\",\"treatment\",\"time\"]\n",
    "surveysColumns = [\"_id\",\"workerId\",\"assignmentId\",\"hitId\",\"idpAgreement\",\"trustSurvey\"]\n",
    "finishedWorkersColumns = [\"_id\",\"workerId\",\"assignmentId\",\"hitId\",\"bonus_correct\",\"time\"]"
   ]
  },
  {
   "cell_type": "code",
   "execution_count": 6,
   "metadata": {},
   "outputs": [],
   "source": [
    "finishedWorkersColumns = [\"_id\",\"workerId\",\"assignmentId\",\"hitId\",\"bonus_correct\",\"time\"]"
   ]
  },
  {
   "cell_type": "code",
   "execution_count": 7,
   "metadata": {},
   "outputs": [
    {
     "name": "stdout",
     "output_type": "stream",
     "text": [
      "length of df: 922\n",
      "length of df: 21734\n"
     ]
    }
   ],
   "source": [
    "def preprocess(dfRaw,columns):\n",
    "    dfRaw.replace('', np.nan, inplace=True)\n",
    "    res = dfRaw.dropna().drop_duplicates()\n",
    "    \n",
    "    print(\"length of df:\",len(res))\n",
    "    res.columns = columns\n",
    "    for elem in columns:\n",
    "        res[elem] = res[elem].apply(remove_punc,args=([len(elem)]))\n",
    "    intColumns = []\n",
    "    for elem in res.columns:\n",
    "        if res[0:1][elem].loc[0].isdigit():\n",
    "            intColumns.append(elem)\n",
    "    for elem in intColumns:\n",
    "        res[elem] = res[elem].apply(lambda x: int(x))\n",
    "    return res\n",
    "infos = preprocess(infosRaw,infosColumns)\n",
    "finalPredictions = preprocess(finalPredictionsRaw,finalPredictionsColumns)"
   ]
  },
  {
   "cell_type": "code",
   "execution_count": 8,
   "metadata": {},
   "outputs": [
    {
     "name": "stdout",
     "output_type": "stream",
     "text": [
      "valid workers:  402\n",
      "worker working on multi tasks: 73\n"
     ]
    }
   ],
   "source": [
    "workerIdListRaw = np.array(list(set(finalPredictions[\"workerId\"])))\n",
    "workerIdList = []\n",
    "workerIdListOther = []\n",
    "unknownErrors = ['A3RDH0U2H6JCBC']\n",
    "exceptionWorkers = [\"A1T208Y507O4RS\"]\n",
    "treatmentDict = {}\n",
    "allOnePredictors = []\n",
    "for elem in workerIdListRaw:\n",
    "    if elem not in unknownErrors:\n",
    "        allTasks = len(finalPredictions.query(\"workerId=='\"+str(elem)+\"'\")[\"taskId\"])==23\n",
    "        distinctTasks = len(set(finalPredictions.query(\"workerId=='\"+str(elem)+\"'\")[\"taskId\"]))==23\n",
    "        attentionLength = len(finalPredictions.query(\n",
    "                    \"workerId=='\"+str(elem)+\"'\").query(\n",
    "                    \"attentionCheck==1\").query(\n",
    "                    \"selfAttentionCheck==1\").query(\"finalAttentionCheck==1\"))\n",
    "        \n",
    "        attentionCorrect = attentionLength==1\n",
    "        if allTasks and distinctTasks and attentionCorrect:\n",
    "            allTasksSelf = finalPredictions.query(\"workerId=='\"+str(elem)+\"'\")[\"selfPrediction\"]\n",
    "            allTasksFinal = finalPredictions.query(\"workerId=='\"+str(elem)+\"'\")[\"finalPrediction\"]\n",
    "            if np.sum(finalPredictions.query(\"attentionCheck!=1\").query(\"workerId==@elem\")[\"selfPrediction\"])!=22:\n",
    "#                 if np.sum(finalPredictions.query(\"attentionCheck!=1\").query(\"workerId==@elem\")[\"finalPrediction\"])!=22:\n",
    "                workerIdList.append(elem)\n",
    "                treatmentDict[elem] = finalPredictions.query(\"workerId=='\"+str(elem)+\"'\")[\"treatment\"].values[0]\n",
    "\n",
    "#             else:\n",
    "        elif attentionCorrect:\n",
    "                workerIdListOther.append(elem)\n",
    "print(\"valid workers: \",len(workerIdList))\n",
    "print(\"worker working on multi tasks:\",len(workerIdListOther))"
   ]
  },
  {
   "cell_type": "code",
   "execution_count": 9,
   "metadata": {},
   "outputs": [],
   "source": [
    "import csv\n",
    "surveys = []\n",
    "with open(\"../../surveys0512final.csv\", newline='') as csvfile:\n",
    "    spamreader = csv.reader(csvfile, delimiter=' ', quotechar='|')\n",
    "    for row in spamreader:\n",
    "        surveys.append(row)\n",
    "surveys_csv = []\n",
    "for i in range(len(surveys)):\n",
    "    if len(surveys[i])>=1:\n",
    "        temp = \"\"\n",
    "        for elem in surveys[i]:\n",
    "            temp+= (\" \" + elem)\n",
    "        surveys[i] = temp[2:-1]\n",
    "        if temp[2:-1].split(\",\")[-3:][1]!='\"trustFactors\":\"\"':\n",
    "            surveys_csv.append(temp[2:-1].split(\",\"))\n",
    "for i in range(len(surveys_csv)):\n",
    "    if surveys_csv[i][-3:][1]=='\"trustFactors\":\"\"':\n",
    "        print(\"cao\")"
   ]
  },
  {
   "cell_type": "code",
   "execution_count": 10,
   "metadata": {},
   "outputs": [],
   "source": [
    "import re\n",
    "\n",
    "df = pd.DataFrame(columns=[\"workerId\",\"trustSurvey\",\"trustFactor\"])\n",
    "for elem in surveys:\n",
    "    trustFactorStart = elem.find(\"trustFactors\")+len(\"trustFactors\")+2\n",
    "    trustFactorEnd = elem.find(\"trustSurvey\")\n",
    "    trustSurveryStart = elem.find(\"trustSurvey\")+14\n",
    "    trustSurveryEnd = elem.find(\"trustSurvey\")+15\n",
    "    workerIdStart = elem.find(\"workerId\")+11\n",
    "    workerIdEnd = elem.find(\"assignmentId\")-3\n",
    "    trustFactor = elem[trustFactorStart:trustFactorEnd]\n",
    "    trustSurvey = elem[trustSurveryStart:trustSurveryEnd]\n",
    "    workerId = elem[workerIdStart:workerIdEnd]\n",
    "    df = df.append({\"workerId\":workerId,\"trustFactor\":trustFactor,\"trustSurvey\":trustSurvey},ignore_index=True)\n",
    "def remove_punc(string):\n",
    "    res = \"\"\n",
    "    for elem in string:\n",
    "        if elem is not '\"' and elem!=\":\" and elem!=\"{\" and elem!=\"}\":\n",
    "            res+=elem\n",
    "    return res\n",
    "df[\"trustFactor\"] = df[\"trustFactor\"].apply(remove_punc)\n",
    "df.to_csv(\"../../survey0512clean.csv\")\n",
    "validSurveys = df[df[\"workerId\"].isin(workerIdList)]"
   ]
  },
  {
   "cell_type": "code",
   "execution_count": 11,
   "metadata": {},
   "outputs": [],
   "source": [
    "all_instances = pd.read_csv(\"../all_instances.csv\")"
   ]
  },
  {
   "cell_type": "code",
   "execution_count": 12,
   "metadata": {},
   "outputs": [],
   "source": [
    "finalPredictionsValid = finalPredictions[finalPredictions[\"workerId\"].isin(workerIdList)]\n",
    "finalPredictionsValid = finalPredictionsValid.query(\"attentionCheck!=1\")\n",
    "temp = pd.DataFrame()\n",
    "for elem in workerIdList:\n",
    "    treat = treatmentDict[elem]\n",
    "    temp = pd.concat([temp,finalPredictionsValid.query(\"workerId==@elem\").query(\"treatment==@treat\")])\n",
    "finalPredictionsValid = temp  "
   ]
  },
  {
   "cell_type": "code",
   "execution_count": 13,
   "metadata": {},
   "outputs": [],
   "source": [
    "\n",
    "tempAgreement = np.array(finalPredictionsValid[\"agreement\"])\n",
    "tempSelfPrediction = np.array(finalPredictionsValid[\"selfPrediction\"])\n",
    "tempPrediction = [tempSelfPrediction[i] if tempAgreement[i]==1 else (1 if tempSelfPrediction[i]==0 else 0) for i in range(len(finalPredictionsValid))]\n",
    "finalPredictionsValid[\"prediction\"] = tempPrediction\n",
    "finalPredictionsValid[\"finalAgreement\"] = tempPrediction==finalPredictionsValid[\"finalPrediction\"]"
   ]
  },
  {
   "cell_type": "code",
   "execution_count": 14,
   "metadata": {},
   "outputs": [],
   "source": [
    "validsurveys = validSurveys[validSurveys[\"workerId\"].isin(finalPredictionsValid[\"workerId\"])]\n",
    "temp = pd.DataFrame()\n",
    "for elem in workerIdList:\n",
    "    treat = treatmentDict[elem]\n",
    "    temp = pd.concat([temp,validsurveys.query(\"workerId==@elem\")])\n",
    "validsurveys = temp\n",
    "validsurveys[\"trustSurvey\"] = validsurveys[\"trustSurvey\"].apply(lambda x:int(x))"
   ]
  },
  {
   "cell_type": "code",
   "execution_count": 15,
   "metadata": {},
   "outputs": [],
   "source": [
    "validInfos = infos[infos[\"workerId\"].isin(finalPredictionsValid[\"workerId\"])]\n",
    "temp = pd.DataFrame()\n",
    "for elem in workerIdList:\n",
    "    treat = treatmentDict[elem]\n",
    "    temp = pd.concat([temp,validInfos.query(\"workerId==@elem\").query(\"treatment==@treat\")])\n",
    "validInfos = temp"
   ]
  },
  {
   "cell_type": "code",
   "execution_count": 16,
   "metadata": {},
   "outputs": [],
   "source": [
    "confAccList = pd.DataFrame()\n",
    "globalIdList = list(finalPredictionsValid[\"globalId\"])\n",
    "for elem in globalIdList:\n",
    "    confAccList = confAccList.append(all_instances[all_instances[\"Unnamed: 0\"]==elem][[\"confidence\",\"accuracy\"]])"
   ]
  },
  {
   "cell_type": "code",
   "execution_count": 17,
   "metadata": {},
   "outputs": [],
   "source": [
    "finalPredictionsValid = finalPredictions[finalPredictions[\"workerId\"].isin(workerIdList)]\n",
    "finalPredictionsValid = finalPredictionsValid.query(\"attentionCheck!=1\")\n",
    "tempAgreement = np.array(finalPredictionsValid[\"agreement\"])\n",
    "tempSelfPrediction = np.array(finalPredictionsValid[\"selfPrediction\"])\n",
    "tempPrediction = [tempSelfPrediction[i] if tempAgreement[i]==1 else (1 if tempSelfPrediction[i]==0 else 0) for i in range(len(finalPredictionsValid))]\n",
    "finalPredictionsValid[\"prediction\"] = tempPrediction\n",
    "finalPredictionsValid[\"finalAgreement\"] = tempPrediction==finalPredictionsValid[\"finalPrediction\"]\n",
    "\n",
    "decision_dic = {elem: dating_data.loc[elem][\"decision\"] for elem in dating_data.index.values}\n",
    "finalPredictionsValid[\"decision\"] = finalPredictionsValid[\"globalId\"].apply(lambda x: decision_dic[x]).values\n",
    "finalPredictionsValid.index = np.arange(len(finalPredictionsValid))\n",
    "finalPredictionsValid[\"mlCorrect\"] = [finalPredictionsValid.loc[i][\"prediction\"]==finalPredictionsValid.loc[i][\"decision\"] for i in range(len(finalPredictionsValid))]\n",
    "finalPredictionsValid[\"selfCorrect\"] = [finalPredictionsValid.loc[i][\"selfPrediction\"]==finalPredictionsValid.loc[i][\"decision\"] for i in range(len(finalPredictionsValid))]\n",
    "finalPredictionsValid[\"finalCorrect\"] = [finalPredictionsValid.loc[i][\"finalPrediction\"]==finalPredictionsValid.loc[i][\"decision\"] for i in range(len(finalPredictionsValid))]\n",
    "finalPredictionsValid[\"switch\"] = [(finalPredictionsValid.loc[i][\"finalPrediction\"]!=finalPredictionsValid.loc[i][\"selfPrediction\"] and finalPredictionsValid.loc[i][\"selfPrediction\"]!=finalPredictionsValid.loc[i][\"prediction\"]) for i in range(len(finalPredictionsValid))]\n",
    "\n",
    "finalPredictionsValid = finalPredictionsValid.drop([\"attentionCheck\",\"selfAttentionCheck\",\"finalAttentionCheck\",\"hitId\",\"_id\",\"assignmentId\"],axis=1)\n",
    "workerIdSet = {workerIdList[i]:i for i in range(len(workerIdList))}\n",
    "finalPredictionsValid[\"workerId\"] = finalPredictionsValid[\"workerId\"].apply(lambda x:workerIdSet[x])\n"
   ]
  },
  {
   "cell_type": "code",
   "execution_count": 18,
   "metadata": {},
   "outputs": [],
   "source": [
    "infosValid = infos[infos[\"workerId\"].isin(workerIdList)]\n",
    "surveysValid = validSurveys[validSurveys[\"workerId\"].isin(workerIdList)]\n",
    "infosValid[\"surveyTrust\"] = infosValid[\"workerId\"].apply(lambda x:surveysValid.query(\"workerId==@x\")[\"trustSurvey\"].values[0])"
   ]
  },
  {
   "cell_type": "code",
   "execution_count": 19,
   "metadata": {},
   "outputs": [],
   "source": [
    "infosValid = infosValid.drop([\"_id\",\"assignmentId\",\"hitId\"],axis=1)\n",
    "infosValid[\"workerId\"] = infosValid[\"workerId\"].apply(lambda x:workerIdSet[x])"
   ]
  },
  {
   "cell_type": "code",
   "execution_count": 20,
   "metadata": {},
   "outputs": [],
   "source": [
    "infosValid.to_csv(\"expThreeInfosValid1125.csv\")\n",
    "finalPredictionsValid.to_csv(\"expThreeFinalPredictionsValid1125.csv\")"
   ]
  },
  {
   "cell_type": "code",
   "execution_count": null,
   "metadata": {},
   "outputs": [],
   "source": []
  },
  {
   "cell_type": "code",
   "execution_count": null,
   "metadata": {},
   "outputs": [],
   "source": []
  }
 ],
 "metadata": {
  "kernelspec": {
   "display_name": "Python 3",
   "language": "python",
   "name": "python3"
  },
  "language_info": {
   "codemirror_mode": {
    "name": "ipython",
    "version": 3
   },
   "file_extension": ".py",
   "mimetype": "text/x-python",
   "name": "python",
   "nbconvert_exporter": "python",
   "pygments_lexer": "ipython3",
   "version": "3.8.3"
  }
 },
 "nbformat": 4,
 "nbformat_minor": 4
}
