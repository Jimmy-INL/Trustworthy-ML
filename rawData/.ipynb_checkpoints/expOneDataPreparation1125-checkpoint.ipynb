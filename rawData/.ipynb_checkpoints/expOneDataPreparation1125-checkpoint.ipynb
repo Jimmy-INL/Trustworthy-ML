{
 "cells": [
  {
   "cell_type": "code",
   "execution_count": 1,
   "metadata": {},
   "outputs": [],
   "source": [
    "import numpy as np\n",
    "import pandas as pd\n",
    "import json\n",
    "import warnings\n",
    "warnings.filterwarnings('ignore')\n",
    "import matplotlib.pyplot as plt\n",
    "import datetime\n",
    "np.random_state=42\n",
    "from scipy import stats\n",
    "import statsmodels.api as sm\n",
    "warnings.filterwarnings('ignore')\n",
    "from statsmodels.stats import power\n",
    "\n",
    "pd.set_option('display.max_colwidth', -1)\n",
    "pd.set_option('display.max_rows', 200)\n",
    "from sklearn.linear_model import LinearRegression\n",
    "from scipy.stats import pearsonr"
   ]
  },
  {
   "cell_type": "code",
   "execution_count": 2,
   "metadata": {},
   "outputs": [],
   "source": [
    "dating_data = pd.read_csv(\"datingData/dating-full.csv\")"
   ]
  },
  {
   "cell_type": "code",
   "execution_count": 3,
   "metadata": {},
   "outputs": [],
   "source": [
    "finalPredictions0210 = pd.read_csv(\"exp1/finalPrediction0210.csv\",header=None)\n",
    "finalPredictions0211 = pd.read_csv(\"exp1/finalPredictionsBackUp0211_final.csv\",header=None)\n",
    "finalPredictions0212 = pd.read_csv(\"exp1/finalPredictionsBackUp0212_2.csv\",header=None)\n",
    "finalPredictions0213 = pd.read_csv(\"exp1/finalPredictionsBackUp0213_final.csv\",header=None)\n",
    "finalPredictions0214 = pd.read_csv(\"exp1/finalPredictionsBackUp0214_final.csv\",header=None)\n",
    "finalPredictionsRaw = finalPredictions0210.append(finalPredictions0211).append(finalPredictions0212).append(finalPredictions0213).append(finalPredictions0214)"
   ]
  },
  {
   "cell_type": "code",
   "execution_count": 4,
   "metadata": {},
   "outputs": [],
   "source": [
    "infos0210 = pd.read_csv(\"exp1/infos0210.csv\",header=None)\n",
    "infos0211 = pd.read_csv(\"exp1/infosBackUp0211_final.csv\",header=None)\n",
    "infos0212 = pd.read_csv(\"exp1/infosBackUp0212_2.csv\",header=None)\n",
    "infos0213 = pd.read_csv(\"exp1/infosBackUp0213_final.csv\",header=None)\n",
    "infos0214 = pd.read_csv(\"exp1/infosBackUp0214_final.csv\",header=None)\n",
    "infosRaw = infos0210.append(infos0211).append(infos0212).append(infos0213).append(infos0214)"
   ]
  },
  {
   "cell_type": "code",
   "execution_count": 5,
   "metadata": {},
   "outputs": [],
   "source": [
    "surveys0210 = pd.read_csv(\"exp1/surveys0210_copy.csv\",header=None)\n",
    "surveys0211 = pd.read_csv(\"exp1/surveysBackUp0211_final_copy.csv\",header=None)\n",
    "surveys0212 = pd.read_csv(\"exp1/surveysBackUp0212_final_copy.csv\",header=None)\n",
    "surveys0213 = pd.read_csv(\"exp1/surveysBackUp0213_final_copy.csv\",header=None)\n",
    "surveys0214 = pd.read_csv(\"exp1/surveysBackUp0214_final_copy.csv\",header=None)\n",
    "surveysRaw = surveys0210.append(surveys0211).append(surveys0212).append(surveys0213).append(surveys0214)"
   ]
  },
  {
   "cell_type": "code",
   "execution_count": 6,
   "metadata": {},
   "outputs": [],
   "source": [
    "def remove_punc(string,num):\n",
    "    res = \"\"\n",
    "    for elem in string:\n",
    "        if elem is not '\"' and elem!=\":\" and elem!=\"{\" and elem!=\"}\":\n",
    "            res+=elem\n",
    "    return res[num:]"
   ]
  },
  {
   "cell_type": "code",
   "execution_count": 7,
   "metadata": {},
   "outputs": [],
   "source": [
    "infosColumns = [\"_id\",\"workerId\",\"assignmentId\",\n",
    "                \"hitId\",\"idpAgreement\",\"humanPredictAccuracy\",\n",
    "                \"reliability\",\"faith\",\"competence\",\"understandability\"]\n",
    "finalPredictionsColumns = [\"_id\",\"workerId\",\"assignmentId\",\"hitId\",\"idpAgreement\",\"taskId\",\n",
    "                          \"profile\",\"globalId\",\"decision\",\"selfPrediction\",\"finalPrediction\",\n",
    "                           \"selfCorrect\",\"finalCorrect\",\"attentionCheck\",\"selfAttentionCheck\",\n",
    "                          \"finalAttentionCheck\",\"agreement\",\"time\"]\n",
    "surveysColumns = [\"_id\",\"workerId\",\"assignmentId\",\"hitId\",\"idpAgreement\",\"trustSurvey\"]\n",
    "\n",
    "finishedWorkersColumns = [\"_id\",\"workerId\",\"assignmentId\",\"hitId\",\"bonus_correct\",\"time\"]"
   ]
  },
  {
   "cell_type": "code",
   "execution_count": 8,
   "metadata": {},
   "outputs": [],
   "source": [
    "def preprocess(dfRaw,columns):\n",
    "    dfRaw.replace('', np.nan, inplace=True)\n",
    "    res = dfRaw.dropna().drop_duplicates()\n",
    "    \n",
    "    print(len(res))\n",
    "    res.columns = columns\n",
    "    for elem in columns:\n",
    "        res[elem] = res[elem].apply(remove_punc,args=([len(elem)]))\n",
    "    intColumns = []\n",
    "    for elem in res.columns:\n",
    "        if res[0:1][elem].loc[0].isdigit():\n",
    "            intColumns.append(elem)\n",
    "    for elem in intColumns:\n",
    "        res[elem] = res[elem].apply(lambda x: int(x))\n",
    "    return res"
   ]
  },
  {
   "cell_type": "code",
   "execution_count": 9,
   "metadata": {},
   "outputs": [
    {
     "name": "stdout",
     "output_type": "stream",
     "text": [
      "499\n",
      "15580\n",
      "498\n"
     ]
    }
   ],
   "source": [
    "infos = preprocess(infosRaw,infosColumns)\n",
    "finalPredictions = preprocess(finalPredictionsRaw,finalPredictionsColumns)\n",
    "surveys = preprocess(surveysRaw,surveysColumns)"
   ]
  },
  {
   "cell_type": "code",
   "execution_count": 10,
   "metadata": {},
   "outputs": [
    {
     "name": "stdout",
     "output_type": "stream",
     "text": [
      "6\n",
      "301\n"
     ]
    }
   ],
   "source": [
    "workerIdListRaw = np.array(list(set(finalPredictions[\"workerId\"])))\n",
    "workerIdList = []\n",
    "workerIdListOther = []\n",
    "for elem in workerIdListRaw:\n",
    "    allTasks = len(finalPredictions.query(\"workerId=='\"+str(elem)+\"'\")[\"taskId\"])==31\n",
    "    distinctTasks = len(set(finalPredictions.query(\"workerId=='\"+str(elem)+\"'\")[\"taskId\"]))==31\n",
    "    attentionLength = len(finalPredictions.query(\n",
    "                \"workerId=='\"+str(elem)+\"'\").query(\n",
    "                \"attentionCheck==1\").query(\n",
    "                \"selfAttentionCheck==1\").query(\"finalAttentionCheck==1\"))\n",
    "    \n",
    "    attentionCorrect = attentionLength==1\n",
    "    if allTasks and distinctTasks and attentionCorrect:\n",
    "        workerIdList.append(elem)\n",
    "    else:\n",
    "        if len(finalPredictions.query(\"workerId=='\"+str(elem)+\"'\")[\"taskId\"])>31 and len(finalPredictions.query(\"workerId=='\"+str(elem)+\"'\")[\"taskId\"])<=62 and attentionLength>0:\n",
    "            if len(set(finalPredictions.query(\"workerId=='\"+str(elem)+\"'\").sort_values(\"time\")[0:31][\"taskId\"]))==31:\n",
    "                if len(set(finalPredictions.query(\"workerId=='\"+str(elem)+\"'\").sort_values(\"time\")[\"idpAgreement\"]))==2:\n",
    "                    workerIdListOther.append(elem)\n",
    "#                     finalPredictions = finalPredictions[~finalPredictions[\"_id\"].isin(finalPredictions.query(\"workerId=='\"+str(elem)+\"'\").sort_values(\"time\")[31:][\"_id\"])]\n",
    "print(len(workerIdListOther))\n",
    "print(len(workerIdList))"
   ]
  },
  {
   "cell_type": "code",
   "execution_count": 11,
   "metadata": {},
   "outputs": [],
   "source": [
    "finalPredictionsValid = finalPredictions[finalPredictions[\"workerId\"].isin(workerIdList)]\n",
    "finalPredictionsValid = finalPredictionsValid.query(\"attentionCheck!=1\")\n",
    "tempAgreement = np.array(finalPredictionsValid[\"agreement\"])\n",
    "tempSelfPrediction = np.array(finalPredictionsValid[\"selfPrediction\"])\n",
    "tempPrediction = [tempSelfPrediction[i] if tempAgreement[i]==1 else (1 if tempSelfPrediction[i]==0 else 0) for i in range(len(finalPredictionsValid))]\n",
    "finalPredictionsValid[\"prediction\"] = tempPrediction\n",
    "finalPredictionsValid[\"finalAgreement\"] = tempPrediction==finalPredictionsValid[\"finalPrediction\"]\n",
    "\n",
    "decision_dic = {elem: dating_data.loc[elem][\"decision\"] for elem in dating_data.index.values}\n",
    "finalPredictionsValid[\"decision\"] = finalPredictionsValid[\"globalId\"].apply(lambda x: decision_dic[x]).values\n",
    "finalPredictionsValid.index = np.arange(len(finalPredictionsValid))\n",
    "finalPredictionsValid[\"mlCorrect\"] = [finalPredictionsValid.loc[i][\"prediction\"]==finalPredictionsValid.loc[i][\"decision\"] for i in range(len(finalPredictionsValid))]\n",
    "finalPredictionsValid[\"selfCorrect\"] = [finalPredictionsValid.loc[i][\"selfPrediction\"]==finalPredictionsValid.loc[i][\"decision\"] for i in range(len(finalPredictionsValid))]\n",
    "finalPredictionsValid[\"finalCorrect\"] = [finalPredictionsValid.loc[i][\"finalPrediction\"]==finalPredictionsValid.loc[i][\"decision\"] for i in range(len(finalPredictionsValid))]\n",
    "finalPredictionsValid[\"switch\"] = [(finalPredictionsValid.loc[i][\"finalPrediction\"]!=finalPredictionsValid.loc[i][\"selfPrediction\"] and finalPredictionsValid.loc[i][\"selfPrediction\"]!=finalPredictionsValid.loc[i][\"prediction\"]) for i in range(len(finalPredictionsValid))]\n",
    "\n",
    "finalPredictionsValid = finalPredictionsValid.drop([\"attentionCheck\",\"selfAttentionCheck\",\"finalAttentionCheck\",\"hitId\",\"_id\",\"assignmentId\"],axis=1)\n",
    "workerIdSet = {workerIdList[i]:i for i in range(len(workerIdList))}\n",
    "finalPredictionsValid[\"workerId\"] = finalPredictionsValid[\"workerId\"].apply(lambda x:workerIdSet[x])"
   ]
  },
  {
   "cell_type": "code",
   "execution_count": 12,
   "metadata": {},
   "outputs": [],
   "source": [
    "infosValid = infos[infos[\"workerId\"].isin(workerIdList)]\n",
    "surveysValid = surveys[surveys[\"workerId\"].isin(workerIdList)]\n",
    "infosValid[\"surveyTrust\"] = infosValid[\"workerId\"].apply(lambda x:surveysValid.query(\"workerId==@x\")[\"trustSurvey\"].values[0])\n",
    "def downSample(x):\n",
    "    return 1 if x>4 else (-1 if x<4 else 0)\n",
    "infosValid[\"reliability\"] = infosValid[\"reliability\"].apply(downSample)\n",
    "infosValid[\"faith\"] = infosValid[\"faith\"].apply(downSample)\n",
    "infosValid[\"understandability\"] = infosValid[\"understandability\"].apply(downSample)\n",
    "infosValid[\"competence\"] = infosValid[\"competence\"].apply(downSample)\n",
    "infosValid = infosValid.drop([\"_id\",\"assignmentId\",\"hitId\"],axis=1)\n",
    "infosValid[\"workerId\"] = infosValid[\"workerId\"].apply(lambda x:workerIdSet[x])"
   ]
  },
  {
   "cell_type": "code",
   "execution_count": 13,
   "metadata": {},
   "outputs": [],
   "source": [
    "infosValid.to_csv(\"../data/expOneInfosValid1125.csv\")\n",
    "finalPredictionsValid.to_csv(\"../data/expOneFinalPredictionsValid1125.csv\")"
   ]
  },
  {
   "cell_type": "code",
   "execution_count": null,
   "metadata": {},
   "outputs": [],
   "source": [
    "\n"
   ]
  },
  {
   "cell_type": "code",
   "execution_count": null,
   "metadata": {},
   "outputs": [],
   "source": []
  }
 ],
 "metadata": {
  "kernelspec": {
   "display_name": "Python 3",
   "language": "python",
   "name": "python3"
  },
  "language_info": {
   "codemirror_mode": {
    "name": "ipython",
    "version": 3
   },
   "file_extension": ".py",
   "mimetype": "text/x-python",
   "name": "python",
   "nbconvert_exporter": "python",
   "pygments_lexer": "ipython3",
   "version": "3.8.3"
  }
 },
 "nbformat": 4,
 "nbformat_minor": 4
}
